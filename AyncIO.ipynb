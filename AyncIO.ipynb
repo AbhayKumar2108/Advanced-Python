{
 "cells": [
  {
   "cell_type": "raw",
   "id": "70c745f5-d855-46b9-ab41-db70fb281173",
   "metadata": {},
   "source": [
    "import asyncio\n",
    "\n",
    "async def send_email():\n",
    "    print('hello')\n",
    "\n",
    "send_email()"
   ]
  },
  {
   "cell_type": "code",
   "execution_count": null,
   "id": "81469561-c28a-45c9-844c-9f4865b326ba",
   "metadata": {},
   "outputs": [],
   "source": [
    "import asyncio\n",
    "\n",
    "async def send_email():\n",
    "    print('hello')\n",
    "\n",
    "asyncio.run(send_email())"
   ]
  },
  {
   "cell_type": "code",
   "execution_count": null,
   "id": "de397c15-7ce9-4e6e-88ca-b5e1b12b5df0",
   "metadata": {},
   "outputs": [],
   "source": [
    "import asyncio\n",
    "\n",
    "async def send_email():\n",
    "    print('hello')\n",
    "\n",
    "print(asyncio.iscoroutinefunction(send_email))\n",
    "\n",
    "asyncio.run(send_email())"
   ]
  },
  {
   "cell_type": "code",
   "execution_count": null,
   "id": "d8f05a07-f3d0-4a87-b396-17b0b9e6e770",
   "metadata": {},
   "outputs": [],
   "source": [
    "import asyncio\n",
    "\n",
    "async def send_email():\n",
    "    print('hello')\n",
    "    await asyncio.sleep(2)\n",
    "    print('Awake now')\n",
    "\n",
    "asyncio.run(send_email())"
   ]
  },
  {
   "cell_type": "code",
   "execution_count": null,
   "id": "e878a6eb-284b-46f0-86a7-78b909e1f0ed",
   "metadata": {},
   "outputs": [],
   "source": [
    "import asyncio\n",
    "\n",
    "async def say_hello():\n",
    "    print('hello')\n",
    "    await asyncio.sleep(2)\n",
    "    print('Awaken')\n",
    "\n",
    "async def main():\n",
    "    await say_hello()\n",
    "    print('Main fn finished')\n",
    "\n",
    "asyncio.run(main())"
   ]
  },
  {
   "cell_type": "code",
   "execution_count": null,
   "id": "2f68e040-7c67-4d04-baea-e3ea1466e392",
   "metadata": {},
   "outputs": [],
   "source": [
    "import asyncio\n",
    "\n",
    "async def send_data():\n",
    "    await asyncio.sleep(2)\n",
    "    return {'data':100}\n",
    "\n",
    "async def send_file():\n",
    "    await asyncio.sleep(3)\n",
    "    return 'file abc.jpg'\n",
    "\n",
    "async def fetch_data():\n",
    "    print('waititng for data...')\n",
    "    x=await send_data()\n",
    "    print(x)\n",
    "\n",
    "async def fetch_file():\n",
    "    print('Waiting for file...')\n",
    "    x=await send_file()\n",
    "    print(x)\n",
    "\n",
    "async def main():\n",
    "    x=asyncio.create_task(fetch_data())\n",
    "    y=asyncio.create_task(fetch_file())\n",
    "\n",
    "    await x\n",
    "    await y\n",
    "\n",
    "asyncio.run(main())"
   ]
  }
 ],
 "metadata": {
  "kernelspec": {
   "display_name": "Python 3 (ipykernel)",
   "language": "python",
   "name": "python3"
  },
  "language_info": {
   "codemirror_mode": {
    "name": "ipython",
    "version": 3
   },
   "file_extension": ".py",
   "mimetype": "text/x-python",
   "name": "python",
   "nbconvert_exporter": "python",
   "pygments_lexer": "ipython3",
   "version": "3.12.7"
  }
 },
 "nbformat": 4,
 "nbformat_minor": 5
}
