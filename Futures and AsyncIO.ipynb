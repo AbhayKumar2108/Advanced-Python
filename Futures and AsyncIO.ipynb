{
 "cells": [
  {
   "cell_type": "code",
   "execution_count": null,
   "id": "c69164b4-b273-417f-8a49-acbbf8774a8b",
   "metadata": {},
   "outputs": [],
   "source": [
    "import time\n",
    "start=time.time()\n",
    "def do_something():\n",
    "    print('sleeping 1 second')\n",
    "    time.sleept(1)\n",
    "    print('done sleeping ...')\n",
    "do_something()\n",
    "finish=time.time()\n",
    "print(f'Finished in {round(finish-start,2)} second(s)')"
   ]
  }
 ],
 "metadata": {
  "kernelspec": {
   "display_name": "Python 3 (ipykernel)",
   "language": "python",
   "name": "python3"
  },
  "language_info": {
   "codemirror_mode": {
    "name": "ipython",
    "version": 3
   },
   "file_extension": ".py",
   "mimetype": "text/x-python",
   "name": "python",
   "nbconvert_exporter": "python",
   "pygments_lexer": "ipython3",
   "version": "3.12.7"
  }
 },
 "nbformat": 4,
 "nbformat_minor": 5
}
