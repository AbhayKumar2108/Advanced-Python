{
 "cells": [
  {
   "cell_type": "code",
   "execution_count": null,
   "id": "7be9140c-4f4f-452f-9633-918be63d3169",
   "metadata": {},
   "outputs": [],
   "source": []
  },
  {
   "cell_type": "code",
   "execution_count": null,
   "id": "632d0f16-7634-45f4-bfcb-e6dcae977ad2",
   "metadata": {},
   "outputs": [],
   "source": []
  },
  {
   "cell_type": "code",
   "execution_count": null,
   "id": "73a4c7ad-6ecc-449d-abe0-17b5314a98f1",
   "metadata": {},
   "outputs": [],
   "source": []
  },
  {
   "cell_type": "code",
   "execution_count": null,
   "id": "d72800fa-7884-425d-ac8b-5293565ef1e3",
   "metadata": {},
   "outputs": [],
   "source": []
  },
  {
   "cell_type": "code",
   "execution_count": null,
   "id": "f1d26042-0fe5-4305-859e-ff1839b44969",
   "metadata": {},
   "outputs": [],
   "source": []
  },
  {
   "cell_type": "code",
   "execution_count": null,
   "id": "5b1f2676-ab9d-4c9e-b1d8-ca067bb170fa",
   "metadata": {},
   "outputs": [],
   "source": []
  },
  {
   "cell_type": "code",
   "execution_count": null,
   "id": "acdd921b-7c63-450c-a8b2-81bff27856b7",
   "metadata": {},
   "outputs": [],
   "source": []
  },
  {
   "cell_type": "code",
   "execution_count": null,
   "id": "cb68036c-9709-4cfc-badf-7e091bcf08ef",
   "metadata": {},
   "outputs": [],
   "source": []
  },
  {
   "cell_type": "code",
   "execution_count": null,
   "id": "bfb17b99-f5db-4de2-8afc-5d4bfe68630b",
   "metadata": {},
   "outputs": [],
   "source": []
  },
  {
   "cell_type": "code",
   "execution_count": null,
   "id": "a36b12a6-6aa9-461e-becf-d4983305ce33",
   "metadata": {},
   "outputs": [],
   "source": [
    "#INSTANCE VARIABLES"
   ]
  },
  {
   "cell_type": "code",
   "execution_count": 1,
   "id": "488aa63d-fe0d-4cb6-8ddb-1a10708cb594",
   "metadata": {},
   "outputs": [
    {
     "name": "stdout",
     "output_type": "stream",
     "text": [
      "{'name': 'Akshay', 'marks': 89}\n"
     ]
    }
   ],
   "source": [
    "class Student:\n",
    "    def __init__(self, nm,m):\n",
    "        #instance vars\n",
    "        self.name=nm\n",
    "        self.marks=m\n",
    "\n",
    "std1=Student('Akshay',89)\n",
    "std2=Student('Raj',94)\n",
    "std3=Student('Jay',91)\n",
    "print(std1.__dict__)"
   ]
  },
  {
   "cell_type": "code",
   "execution_count": 8,
   "id": "dc7b2163-8a64-46e7-9f72-071dd27b01c3",
   "metadata": {},
   "outputs": [
    {
     "name": "stdout",
     "output_type": "stream",
     "text": [
      "{'name': 'Akshay', 'marks': 89, 'age': 21}\n",
      "{'name': 'Raj', 'marks': 94}\n",
      "{'marks': 94}\n"
     ]
    }
   ],
   "source": [
    "\n",
    "#add another instance variable age to std1\n",
    "std1.age=21\n",
    "print(std1.__dict__)\n",
    "print(std2.__dict__)\n",
    "#delete an instance varibale\n",
    "del std2.name\n",
    "print(std2.__dict__)"
   ]
  },
  {
   "cell_type": "code",
   "execution_count": 9,
   "id": "b34d04de-2f32-4bf2-bc00-24c78e1e9b34",
   "metadata": {},
   "outputs": [],
   "source": [
    "#Instance METHOD"
   ]
  },
  {
   "cell_type": "code",
   "execution_count": 14,
   "id": "2792a654-c0ba-4ced-a5b6-fb66282370f5",
   "metadata": {},
   "outputs": [
    {
     "name": "stdout",
     "output_type": "stream",
     "text": [
      "Raj 94\n"
     ]
    }
   ],
   "source": [
    "class Student:\n",
    "    def __init__(self, nm,m):\n",
    "        #instance vars\n",
    "        self.name=nm\n",
    "        self.marks=m\n",
    "\n",
    "    #instance method    \n",
    "    def display(self):\n",
    "        print(self.name,self.marks)\n",
    "    #instance method\n",
    "    def change_data(self):\n",
    "        self.name='ABC'\n",
    "        self.marks=100\n",
    "\n",
    "std1=Student('Akshay',89)\n",
    "std2=Student('Raj',94)\n",
    "std3=Student('Jay',91)\n",
    "std2.display()"
   ]
  },
  {
   "cell_type": "code",
   "execution_count": 15,
   "id": "95707146-b96e-4e2a-ba91-711c218d889b",
   "metadata": {},
   "outputs": [
    {
     "name": "stdout",
     "output_type": "stream",
     "text": [
      "ABC 100\n"
     ]
    }
   ],
   "source": [
    "std2.change_data()\n",
    "std2.display()"
   ]
  },
  {
   "cell_type": "code",
   "execution_count": 16,
   "id": "249a5847-46ef-446e-8512-2541c35f0dad",
   "metadata": {},
   "outputs": [],
   "source": [
    "#Class Variables"
   ]
  },
  {
   "cell_type": "code",
   "execution_count": 24,
   "id": "700ee108-ada1-4881-aef4-1ee89085b4df",
   "metadata": {},
   "outputs": [
    {
     "name": "stdout",
     "output_type": "stream",
     "text": [
      "NIT\n",
      "NIT\n",
      "NIT Sikkim\n",
      "NIT Sikkim\n",
      "{'name': 'Akshay', 'marks': 89, 'college': 'NIT Patna'}\n",
      "{'name': 'Raj', 'marks': 94}\n"
     ]
    }
   ],
   "source": [
    "class Student:\n",
    "\n",
    "    college='NIT'\n",
    "    \n",
    "    def __init__(self, nm,m):\n",
    "        #instance vars\n",
    "        self.name=nm\n",
    "        self.marks=m\n",
    "\n",
    "std1=Student('Akshay',89)\n",
    "std2=Student('Raj',94)\n",
    "#class variable accessed using ClassName\n",
    "print(Student.college)\n",
    "#class variable accessed using object\n",
    "print(std1.college)\n",
    "#modify CV using className\n",
    "Student.college='NIT Sikkim'\n",
    "print(Student.college)\n",
    "#Try to modify using instance does not modify it but creates an insnatnce variable\n",
    "std1.college='NIT Patna'\n",
    "print(Student.college)\n",
    "print(std1.__dict__)\n",
    "print(std2.__dict__)"
   ]
  },
  {
   "cell_type": "code",
   "execution_count": 25,
   "id": "1c9ac437-078b-4468-958d-8f78127775c4",
   "metadata": {},
   "outputs": [],
   "source": [
    "#Class Method"
   ]
  },
  {
   "cell_type": "code",
   "execution_count": 31,
   "id": "72e5b17b-c0c1-4ca8-9e10-74712f80ab97",
   "metadata": {},
   "outputs": [
    {
     "name": "stdout",
     "output_type": "stream",
     "text": [
      "College : NIT\n"
     ]
    },
    {
     "ename": "TypeError",
     "evalue": "Student.get_college_name() missing 1 required positional argument: 'cls'",
     "output_type": "error",
     "traceback": [
      "\u001b[1;31m---------------------------------------------------------------------------\u001b[0m",
      "\u001b[1;31mTypeError\u001b[0m                                 Traceback (most recent call last)",
      "Cell \u001b[1;32mIn[31], line 15\u001b[0m\n\u001b[0;32m     13\u001b[0m std1\u001b[38;5;241m=\u001b[39mStudent(\u001b[38;5;124m'\u001b[39m\u001b[38;5;124mAkshay\u001b[39m\u001b[38;5;124m'\u001b[39m,\u001b[38;5;241m89\u001b[39m)\n\u001b[0;32m     14\u001b[0m std1\u001b[38;5;241m.\u001b[39mget_college_name()\n\u001b[1;32m---> 15\u001b[0m \u001b[43mStudent\u001b[49m\u001b[38;5;241;43m.\u001b[39;49m\u001b[43mget_college_name\u001b[49m\u001b[43m(\u001b[49m\u001b[43m)\u001b[49m\n",
      "\u001b[1;31mTypeError\u001b[0m: Student.get_college_name() missing 1 required positional argument: 'cls'"
     ]
    }
   ],
   "source": [
    "class Student:\n",
    "\n",
    "    college='NIT'\n",
    "    \n",
    "    def __init__(self, nm,m):\n",
    "        #instance vars\n",
    "        self.name=nm\n",
    "        self.marks=m\n",
    "    # trying to create a class method without decorator @classmethod (Its actually an instance method with cls instead of self)\n",
    "    def get_college_name(cls):\n",
    "        print(f'College : {cls.college}')\n",
    "\n",
    "std1=Student('Akshay',89)\n",
    "std1.get_college_name()\n",
    "Student.get_college_name()"
   ]
  },
  {
   "cell_type": "code",
   "execution_count": 34,
   "id": "efde9ef8-cecd-4b16-af15-92cc41c65edb",
   "metadata": {},
   "outputs": [
    {
     "name": "stdout",
     "output_type": "stream",
     "text": [
      "College : NIT\n",
      "College : NIT Sikkim\n",
      "College : NIT Sikkim\n",
      "College : NIT Sikkim\n",
      "{'name': 'Akshay', 'marks': 89}\n"
     ]
    }
   ],
   "source": [
    "class Student:\n",
    "\n",
    "    college='NIT'\n",
    "    \n",
    "    def __init__(self, nm,m):\n",
    "        #instance vars\n",
    "        self.name=nm\n",
    "        self.marks=m\n",
    "    # create a class method with decorator @classmethod\n",
    "    @classmethod\n",
    "    def get_college_name(cls):\n",
    "        print(f'College : {cls.college}')\n",
    "        cls.college='NIT Sikkim'\n",
    "        print(f'College : {cls.college}')\n",
    "\n",
    "std1=Student('Akshay',89)\n",
    "std1.get_college_name()\n",
    "Student.get_college_name()\n",
    "print(std1.__dict__)"
   ]
  },
  {
   "cell_type": "code",
   "execution_count": 35,
   "id": "68f7dce3-e15f-46a2-a569-439fb1b7d85e",
   "metadata": {},
   "outputs": [],
   "source": [
    "#INSTANCE METHODS : Getter and setter methods"
   ]
  },
  {
   "cell_type": "code",
   "execution_count": 39,
   "id": "850dbc27-8082-4876-abb5-e8b15fce55b7",
   "metadata": {},
   "outputs": [
    {
     "name": "stdout",
     "output_type": "stream",
     "text": [
      "Abhay\n",
      "{'name': 'Abhay'}\n"
     ]
    }
   ],
   "source": [
    "class Student:\n",
    "\n",
    "    #setter instance method\n",
    "    def setName(self,nm):\n",
    "        self.name=nm\n",
    "\n",
    "    #getter instnace method\n",
    "    def getName(self):\n",
    "        print(self.name)\n",
    "    \n",
    "std1=Student()\n",
    "std1.setName('Abhay')\n",
    "std1.getName()\n",
    "print(std1.__dict__)"
   ]
  },
  {
   "cell_type": "code",
   "execution_count": null,
   "id": "8561646b-1275-445e-97bc-defabb6f942c",
   "metadata": {},
   "outputs": [],
   "source": [
    "#Inheritance"
   ]
  },
  {
   "cell_type": "code",
   "execution_count": 40,
   "id": "1de2ed63-1df5-427c-a8e6-5e5598b300d9",
   "metadata": {},
   "outputs": [
    {
     "name": "stdout",
     "output_type": "stream",
     "text": [
      "2000\n",
      "Emp class Method\n",
      "50000\n",
      "Manager class Method\n"
     ]
    }
   ],
   "source": [
    "class Employee:\n",
    "    bonus=2000\n",
    "    def display(self):\n",
    "        print('Emp class Method')\n",
    "\n",
    "class Manager:\n",
    "    bonus1=50000\n",
    "    def show(self):\n",
    "        print('Manager class Method')\n",
    "\n",
    "e1=Employee()\n",
    "m1=Manager()\n",
    "print(e1.bonus)\n",
    "e1.display()\n",
    "print(m1.bonus1)\n",
    "m1.show()"
   ]
  },
  {
   "cell_type": "code",
   "execution_count": 41,
   "id": "f012cf01-720b-444d-a159-3980e874d073",
   "metadata": {},
   "outputs": [
    {
     "name": "stdout",
     "output_type": "stream",
     "text": [
      "2000\n",
      "Emp class Method\n",
      "2000\n",
      "Emp class Method\n",
      "50000\n",
      "Manager class Method\n"
     ]
    }
   ],
   "source": [
    "class Employee:\n",
    "    bonus=2000\n",
    "    def display(self):\n",
    "        print('Emp class Method')\n",
    "\n",
    "class Manager(Employee):\n",
    "    bonus1=50000\n",
    "    def show(self):\n",
    "        print('Manager class Method')\n",
    "\n",
    "e1=Employee()\n",
    "m1=Manager()\n",
    "print(e1.bonus)\n",
    "e1.display()\n",
    "print(m1.bonus)\n",
    "m1.display()\n",
    "print(m1.bonus1)\n",
    "m1.show()\n"
   ]
  },
  {
   "cell_type": "code",
   "execution_count": 44,
   "id": "baa7e8a3-def7-4c39-bf39-dbce83e21e69",
   "metadata": {},
   "outputs": [],
   "source": [
    "class Parent:\n",
    "    def __init__(self):\n",
    "        print('Parent constructor called')\n",
    "\n",
    "class Child(Parent):\n",
    "    pass\n",
    "\n",
    "c=Child()"
   ]
  },
  {
   "cell_type": "code",
   "execution_count": null,
   "id": "31d423e7-d9f3-4285-bf54-d2572f3023b8",
   "metadata": {},
   "outputs": [],
   "source": []
  }
 ],
 "metadata": {
  "kernelspec": {
   "display_name": "Python 3 (ipykernel)",
   "language": "python",
   "name": "python3"
  },
  "language_info": {
   "codemirror_mode": {
    "name": "ipython",
    "version": 3
   },
   "file_extension": ".py",
   "mimetype": "text/x-python",
   "name": "python",
   "nbconvert_exporter": "python",
   "pygments_lexer": "ipython3",
   "version": "3.12.4"
  }
 },
 "nbformat": 4,
 "nbformat_minor": 5
}
