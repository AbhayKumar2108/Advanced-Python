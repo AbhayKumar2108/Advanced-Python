{
 "cells": [
  {
   "cell_type": "code",
   "execution_count": null,
   "id": "6873001d-0c39-4b4f-aa9d-b5ffe43085af",
   "metadata": {},
   "outputs": [],
   "source": [
    "#Run Programs in VS code to see True nature of the program, Jupyter notebook often gives wrong results"
   ]
  },
  {
   "cell_type": "code",
   "execution_count": null,
   "id": "4bdbb06d-9d87-4f5f-b703-cff9ab276a73",
   "metadata": {},
   "outputs": [],
   "source": [
    "#Run Programs in VS code to see True nature of the program, Jupyter notebook often gives wrong results"
   ]
  },
  {
   "cell_type": "code",
   "execution_count": null,
   "id": "90cd6caa-9e08-40af-ace3-c2f40482e166",
   "metadata": {},
   "outputs": [],
   "source": [
    "#Run Programs in VS code to see True nature of the program, Jupyter notebook often gives wrong results"
   ]
  },
  {
   "cell_type": "code",
   "execution_count": 3,
   "id": "e1464ec8-aa5e-4546-96bb-9b4da3b2a246",
   "metadata": {},
   "outputs": [
    {
     "name": "stdout",
     "output_type": "stream",
     "text": [
      "<_MainThread(MainThread, started 19084)>\n",
      "MainThread\n",
      "19084\n",
      "True\n"
     ]
    }
   ],
   "source": [
    "import threading\n",
    "print(threading.current_thread())\n",
    "print(threading.current_thread().name)\n",
    "print(threading.current_thread().ident)\n",
    "print(threading.current_thread().is_alive())"
   ]
  },
  {
   "cell_type": "code",
   "execution_count": 4,
   "id": "8e4a4e98-5313-4ebe-9d3a-80be433a2c58",
   "metadata": {},
   "outputs": [
    {
     "name": "stdout",
     "output_type": "stream",
     "text": [
      "True\n"
     ]
    }
   ],
   "source": [
    "print(threading.current_thread().is_alive())"
   ]
  },
  {
   "cell_type": "code",
   "execution_count": 5,
   "id": "6ad63a5f-9e1f-4e87-a527-3011232d467c",
   "metadata": {},
   "outputs": [
    {
     "name": "stdout",
     "output_type": "stream",
     "text": [
      "Hello World!\n",
      "Hello World!\n",
      "Hello World!\n",
      "Hello World!\n"
     ]
    }
   ],
   "source": [
    "#import Thread class\n",
    "from threading import Thread\n",
    "#create a function conatining code to be executed parallely\n",
    "def display():\n",
    "    for i in range(4):\n",
    "        print('Hello World!')\n",
    "\n",
    "#crete a new thread \n",
    "t1=Thread(target=display)\n",
    "\n",
    "#start the new thread\n",
    "t1.start()"
   ]
  },
  {
   "cell_type": "code",
   "execution_count": 7,
   "id": "b968168e-cc14-4b56-8705-46dfa8757e3b",
   "metadata": {},
   "outputs": [
    {
     "name": "stdout",
     "output_type": "stream",
     "text": [
      "Hello\n",
      "Hello\n",
      "Hello\n",
      "Hello\n"
     ]
    }
   ],
   "source": [
    "#import Thread class\n",
    "from threading import Thread\n",
    "#create a function conatining code to be executed parallely\n",
    "def display(n,msg):\n",
    "    for i in range(n):\n",
    "        print(msg)\n",
    "\n",
    "#crete a new thread \n",
    "t1=Thread(target=display, args=(4,'Hello')) \n",
    "\n",
    "#start the new thread\n",
    "t1.start()"
   ]
  },
  {
   "cell_type": "code",
   "execution_count": 8,
   "id": "5daa61bd-6443-4bbf-a6ea-029b2afd09d3",
   "metadata": {},
   "outputs": [
    {
     "name": "stdout",
     "output_type": "stream",
     "text": [
      "Hello\n",
      "Hello\n",
      "Hello\n",
      "Hello\n"
     ]
    }
   ],
   "source": [
    "#import Thread class\n",
    "from threading import Thread\n",
    "#create a function conatining code to be executed parallely\n",
    "def display(n):\n",
    "    for i in range(n):\n",
    "        print('Hello')\n",
    "\n",
    "#crete a new thread \n",
    "t1=Thread(target=display, args=(4,))\n",
    "\n",
    "#start the new thread\n",
    "t1.start()"
   ]
  },
  {
   "cell_type": "code",
   "execution_count": 11,
   "id": "b6fed519-7692-4a5e-b5ae-4a7fa8b4d10a",
   "metadata": {},
   "outputs": [
    {
     "name": "stdout",
     "output_type": "stream",
     "text": [
      "Hello\n",
      "Hello\n",
      "Hello\n",
      "Hello\n"
     ]
    }
   ],
   "source": [
    "#import Thread class\n",
    "from threading import Thread\n",
    "#create a function conatining code to be executed parallely\n",
    "def display(n):\n",
    "    for i in range(n):\n",
    "        print('Hello')\n",
    "\n",
    "#crete a new thread \n",
    "t1=Thread(target=display, kwargs={'n':4}) #kwars passed\n",
    "\n",
    "#start the new thread\n",
    "t1.start()"
   ]
  },
  {
   "cell_type": "code",
   "execution_count": 18,
   "id": "9c2f6ade-919f-4d6d-ae67-b72a2633ad70",
   "metadata": {},
   "outputs": [
    {
     "name": "stdout",
     "output_type": "stream",
     "text": [
      "HelloWelcome\n",
      "Welcome\n",
      "Welcome\n",
      "Welcome\n",
      "\n",
      "Hello\n",
      "Hello\n",
      "Hello\n"
     ]
    }
   ],
   "source": [
    "#import Thread class\n",
    "from threading import Thread\n",
    "#create a function conatining code to be executed parallely\n",
    "def display(n, msg):\n",
    "    for i in range(n):\n",
    "        print(msg)\n",
    "\n",
    "#crete a new thread \n",
    "t1=Thread(target=display, kwargs={'n':4, 'msg':'Hello'}) #kwargs passed\n",
    "\n",
    "#start the new thread\n",
    "t1.start()\n",
    "\n",
    "for i in range(4):\n",
    "    print('Welcome')"
   ]
  },
  {
   "cell_type": "code",
   "execution_count": 29,
   "id": "ff41dad7-b5c7-47c4-8641-f1e64c8e7e8d",
   "metadata": {},
   "outputs": [
    {
     "name": "stdout",
     "output_type": "stream",
     "text": [
      "t1 thread details : <Thread(Thread-27 (display), started 10620)>\n",
      "Hello\n",
      "Hello\n",
      "Hello\n",
      "Hello\n",
      "Welcome\n",
      "Welcome\n",
      "Welcome\n",
      "Welcome\n"
     ]
    }
   ],
   "source": [
    "#import Thread class\n",
    "from threading import Thread, current_thread\n",
    "#create a function conatining code to be executed parallely\n",
    "def display(n, msg):\n",
    "    print('t1 thread details :',current_thread())\n",
    "    for i in range(n):\n",
    "        print(msg)\n",
    "\n",
    "#crete a new thread \n",
    "t1=Thread(target=display, kwargs={'n':4, 'msg':'Hello'}) #kwargs passed\n",
    "\n",
    "#start the new thread\n",
    "t1.start()\n",
    "\n",
    "for i in range(4):\n",
    "    print('Welcome')"
   ]
  },
  {
   "cell_type": "code",
   "execution_count": 30,
   "id": "6b9a5d74-bc87-4034-b231-2841294ce24b",
   "metadata": {},
   "outputs": [
    {
     "name": "stdout",
     "output_type": "stream",
     "text": [
      "Hello\n",
      "Hello\n",
      "Hello\n",
      "Hello\n",
      "Welcome\n",
      "Welcome\n",
      "Welcome\n",
      "Welcome\n"
     ]
    }
   ],
   "source": [
    "#import Thread class\n",
    "from threading import Thread, current_thread\n",
    "#create a function conatining code to be executed parallely\n",
    "class Example:\n",
    "    def display(self):\n",
    "        for i in range(4):\n",
    "            print('Hello')\n",
    "\n",
    "#crete a new thread \n",
    "e1=Example()\n",
    "t1=Thread(target=e1.display) #kwargs passed\n",
    "\n",
    "#start the new thread\n",
    "t1.start()\n",
    "\n",
    "for i in range(4):\n",
    "    print('Welcome')"
   ]
  },
  {
   "cell_type": "code",
   "execution_count": 31,
   "id": "3f26e900-9ca8-4ce4-ad5f-0c2bdcef811d",
   "metadata": {},
   "outputs": [
    {
     "name": "stdout",
     "output_type": "stream",
     "text": [
      "Hello\n",
      "Hello\n",
      "Hello\n",
      "Hello\n",
      "Welcome\n",
      "Welcome\n",
      "Welcome\n",
      "Welcome\n"
     ]
    }
   ],
   "source": [
    "#import Thread class\n",
    "from threading import Thread, current_thread\n",
    "#create a function conatining code to be executed parallely\n",
    "class Example:\n",
    "    def display(self,n):\n",
    "        for i in range(n):\n",
    "            print('Hello')\n",
    "\n",
    "#crete a new thread \n",
    "e1=Example()\n",
    "t1=Thread(target=e1.display, args=(4,)) #kwargs passed\n",
    "\n",
    "#start the new thread\n",
    "t1.start()\n",
    "\n",
    "for i in range(4):\n",
    "    print('Welcome')"
   ]
  },
  {
   "cell_type": "code",
   "execution_count": 33,
   "id": "68fbcd30-853c-46b8-904c-304a2fff5635",
   "metadata": {},
   "outputs": [
    {
     "name": "stdout",
     "output_type": "stream",
     "text": [
      "HelloWelcome\n",
      "Welcome\n",
      "Welcome\n",
      "Welcome\n",
      "\n",
      "Hello\n",
      "Hello\n",
      "Hello\n"
     ]
    }
   ],
   "source": [
    "#import Thread class\n",
    "from threading import Thread, current_thread\n",
    "#create a function conatining code to be executed parallely\n",
    "class Example:\n",
    "    @classmethod\n",
    "    def display(cls,n):\n",
    "        for i in range(n):\n",
    "            print('Hello')\n",
    "\n",
    "#crete a new thread \n",
    "e1=Example()\n",
    "t1=Thread(target=e1.display, args=(4,)) #kwargs passed\n",
    "\n",
    "#start the new thread\n",
    "t1.start()\n",
    "\n",
    "for i in range(4):\n",
    "    print('Welcome')"
   ]
  },
  {
   "cell_type": "code",
   "execution_count": 35,
   "id": "e39cd257-0748-43c5-85fa-b1493d18e078",
   "metadata": {},
   "outputs": [
    {
     "name": "stdout",
     "output_type": "stream",
     "text": [
      "Hello\n",
      "Hello\n",
      "Hello\n",
      "Hello\n",
      "Welcome\n",
      "Welcome\n",
      "Welcome\n",
      "Welcome\n"
     ]
    }
   ],
   "source": [
    "#import Thread class\n",
    "from threading import Thread, current_thread\n",
    "#create a function conatining code to be executed parallely\n",
    "class Example:\n",
    "    @staticmethod\n",
    "    def display(n):\n",
    "        for i in range(n):\n",
    "            print('Hello')\n",
    "\n",
    "#crete a new thread \n",
    "# e1=Example()\n",
    "t1=Thread(target=Example.display, args=(4,)) #kwargs passed\n",
    "\n",
    "#start the new thread\n",
    "t1.start()\n",
    "\n",
    "for i in range(4):\n",
    "    print('Welcome')"
   ]
  },
  {
   "cell_type": "code",
   "execution_count": null,
   "id": "1b865cdf-eedc-419a-8af8-566076b1dd6f",
   "metadata": {},
   "outputs": [],
   "source": [
    "#creating a thread using a class"
   ]
  },
  {
   "cell_type": "code",
   "execution_count": null,
   "id": "4afb5381-35de-42dc-bc8c-7332da4eee33",
   "metadata": {},
   "outputs": [],
   "source": [
    "# 1. without overriding run()"
   ]
  },
  {
   "cell_type": "code",
   "execution_count": 1,
   "id": "49a5ff6a-2fda-41f0-ae8c-b0dfb58fab14",
   "metadata": {},
   "outputs": [],
   "source": [
    "from threading import Thread\n",
    "\n",
    "class MyThread(Thread):\n",
    "    pass\n",
    "    # def run(self):\n",
    "    #     for i in range(4):\n",
    "    #         print('Hello')\n",
    "\n",
    "t1=MyThread()\n",
    "t1.start()"
   ]
  },
  {
   "cell_type": "code",
   "execution_count": 38,
   "id": "d8452f21-7d33-49c7-b635-37685dd91044",
   "metadata": {},
   "outputs": [],
   "source": [
    "# 2. override run()"
   ]
  },
  {
   "cell_type": "code",
   "execution_count": 39,
   "id": "b95c90be-295c-4e46-ae62-86dc9cefd903",
   "metadata": {},
   "outputs": [
    {
     "name": "stdout",
     "output_type": "stream",
     "text": [
      "HelloWelcome\n",
      "Welcome\n",
      "Welcome\n",
      "Welcome\n",
      "\n",
      "Hello\n",
      "Hello\n",
      "Hello\n"
     ]
    }
   ],
   "source": [
    "from threading import Thread\n",
    "\n",
    "class MyThread(Thread):\n",
    "     def run(self):\n",
    "        for i in range(4):\n",
    "            print('Hello')\n",
    "\n",
    "t1=MyThread()\n",
    "t1.start()\n",
    "for i in range(4):\n",
    "    print('Welcome')"
   ]
  },
  {
   "cell_type": "code",
   "execution_count": null,
   "id": "3771207f-fce8-4b43-8550-c69600ad2977",
   "metadata": {},
   "outputs": [],
   "source": [
    "# Constructor in MyThread class"
   ]
  },
  {
   "cell_type": "code",
   "execution_count": 42,
   "id": "c0cf9ace-7e2b-465d-9718-be3b75da3297",
   "metadata": {},
   "outputs": [
    {
     "name": "stdout",
     "output_type": "stream",
     "text": [
      "Constructor called...\n"
     ]
    },
    {
     "ename": "RuntimeError",
     "evalue": "thread.__init__() not called",
     "output_type": "error",
     "traceback": [
      "\u001b[1;31m---------------------------------------------------------------------------\u001b[0m",
      "\u001b[1;31mRuntimeError\u001b[0m                              Traceback (most recent call last)",
      "Cell \u001b[1;32mIn[42], line 11\u001b[0m\n\u001b[0;32m      8\u001b[0m             \u001b[38;5;28mprint\u001b[39m(\u001b[38;5;124m'\u001b[39m\u001b[38;5;124mHello\u001b[39m\u001b[38;5;124m'\u001b[39m)\n\u001b[0;32m     10\u001b[0m t1\u001b[38;5;241m=\u001b[39mMyThread()\n\u001b[1;32m---> 11\u001b[0m t1\u001b[38;5;241m.\u001b[39mstart()\n\u001b[0;32m     12\u001b[0m \u001b[38;5;28;01mfor\u001b[39;00m i \u001b[38;5;129;01min\u001b[39;00m \u001b[38;5;28mrange\u001b[39m(\u001b[38;5;241m4\u001b[39m):\n\u001b[0;32m     13\u001b[0m     \u001b[38;5;28mprint\u001b[39m(\u001b[38;5;124m'\u001b[39m\u001b[38;5;124mWelcome\u001b[39m\u001b[38;5;124m'\u001b[39m)\n",
      "File \u001b[1;32m~\\anaconda3\\Lib\\threading.py:986\u001b[0m, in \u001b[0;36mThread.start\u001b[1;34m(self)\u001b[0m\n\u001b[0;32m    976\u001b[0m \u001b[38;5;250m\u001b[39m\u001b[38;5;124;03m\"\"\"Start the thread's activity.\u001b[39;00m\n\u001b[0;32m    977\u001b[0m \n\u001b[0;32m    978\u001b[0m \u001b[38;5;124;03mIt must be called at most once per thread object. It arranges for the\u001b[39;00m\n\u001b[1;32m   (...)\u001b[0m\n\u001b[0;32m    983\u001b[0m \n\u001b[0;32m    984\u001b[0m \u001b[38;5;124;03m\"\"\"\u001b[39;00m\n\u001b[0;32m    985\u001b[0m \u001b[38;5;28;01mif\u001b[39;00m \u001b[38;5;129;01mnot\u001b[39;00m \u001b[38;5;28mself\u001b[39m\u001b[38;5;241m.\u001b[39m_initialized:\n\u001b[1;32m--> 986\u001b[0m     \u001b[38;5;28;01mraise\u001b[39;00m \u001b[38;5;167;01mRuntimeError\u001b[39;00m(\u001b[38;5;124m\"\u001b[39m\u001b[38;5;124mthread.__init__() not called\u001b[39m\u001b[38;5;124m\"\u001b[39m)\n\u001b[0;32m    988\u001b[0m \u001b[38;5;28;01mif\u001b[39;00m \u001b[38;5;28mself\u001b[39m\u001b[38;5;241m.\u001b[39m_started\u001b[38;5;241m.\u001b[39mis_set():\n\u001b[0;32m    989\u001b[0m     \u001b[38;5;28;01mraise\u001b[39;00m \u001b[38;5;167;01mRuntimeError\u001b[39;00m(\u001b[38;5;124m\"\u001b[39m\u001b[38;5;124mthreads can only be started once\u001b[39m\u001b[38;5;124m\"\u001b[39m)\n",
      "\u001b[1;31mRuntimeError\u001b[0m: thread.__init__() not called"
     ]
    }
   ],
   "source": [
    "from threading import Thread\n",
    "\n",
    "class MyThread(Thread):\n",
    "    def __init__(self):\n",
    "        print('Constructor called...')\n",
    "    def run(self):\n",
    "        for i in range(4):\n",
    "            print('Hello')\n",
    "\n",
    "t1=MyThread()\n",
    "t1.start()\n",
    "for i in range(4):\n",
    "    print('Welcome')"
   ]
  },
  {
   "cell_type": "code",
   "execution_count": 45,
   "id": "a37b4c04-f31a-4899-8731-d25c350f97bb",
   "metadata": {},
   "outputs": [
    {
     "name": "stdout",
     "output_type": "stream",
     "text": [
      "Constructor called...\n",
      "Hello\n",
      "Hello\n",
      "Hello\n",
      "Hello\n",
      "Welcome\n",
      "Welcome\n",
      "Welcome\n",
      "Welcome\n"
     ]
    }
   ],
   "source": [
    "from threading import Thread\n",
    "\n",
    "class MyThread(Thread):\n",
    "    def __init__(self):\n",
    "        print('Constructor called...')\n",
    "        # Thread.__init__(self)\n",
    "        super().__init__()\n",
    "    def run(self):\n",
    "        for i in range(4):\n",
    "            print('Hello')\n",
    "\n",
    "t1=MyThread()\n",
    "t1.start()\n",
    "for i in range(4):\n",
    "    print('Welcome')"
   ]
  },
  {
   "cell_type": "code",
   "execution_count": 46,
   "id": "71c50d83-4209-483e-8924-83c7c0710105",
   "metadata": {},
   "outputs": [],
   "source": [
    "# passing argument to the thread in subclass"
   ]
  },
  {
   "cell_type": "code",
   "execution_count": 50,
   "id": "9e937efd-0e76-47dc-8bf0-2176739cce56",
   "metadata": {},
   "outputs": [
    {
     "name": "stdout",
     "output_type": "stream",
     "text": [
      "Constructor called...\n",
      "Hello\n",
      "Hello\n",
      "Hello\n",
      "Hello\n",
      "Welcome\n",
      "Welcome\n",
      "Welcome\n",
      "Welcome\n"
     ]
    }
   ],
   "source": [
    "from threading import Thread\n",
    "\n",
    "class MyThread(Thread):\n",
    "    def __init__(self, n,msg):\n",
    "        print('Constructor called...')\n",
    "        self.n=n\n",
    "        self.msg=msg\n",
    "        # Thread.__init__(self)\n",
    "        super().__init__()\n",
    "    def run(self):\n",
    "        for i in range(self.n):\n",
    "            print(self.msg)\n",
    "\n",
    "t1=MyThread(4,'Hello')\n",
    "t1.start()\n",
    "for i in range(4):\n",
    "    print('Welcome')"
   ]
  },
  {
   "cell_type": "code",
   "execution_count": null,
   "id": "f7ee80db-2b58-437a-b3e6-dd5ca231f04f",
   "metadata": {},
   "outputs": [],
   "source": [
    "# return data from a display fn "
   ]
  },
  {
   "cell_type": "code",
   "execution_count": 51,
   "id": "066b6933-d760-4fa4-b5fe-0e2c40808df3",
   "metadata": {},
   "outputs": [
    {
     "name": "stdout",
     "output_type": "stream",
     "text": [
      "None\n"
     ]
    }
   ],
   "source": [
    "from threading import Thread\n",
    "\n",
    "def display():\n",
    "    a=10\n",
    "    b=20\n",
    "    return a+b\n",
    "\n",
    "t1=Thread(target=display)\n",
    "print(t1.start())"
   ]
  },
  {
   "cell_type": "code",
   "execution_count": 70,
   "id": "3c69e6e9-a590-44de-98cd-a68842f5ab18",
   "metadata": {},
   "outputs": [
    {
     "ename": "AttributeError",
     "evalue": "'MyThread' object has no attribute 'temp'",
     "output_type": "error",
     "traceback": [
      "\u001b[1;31m---------------------------------------------------------------------------\u001b[0m",
      "\u001b[1;31mAttributeError\u001b[0m                            Traceback (most recent call last)",
      "Cell \u001b[1;32mIn[70], line 17\u001b[0m\n\u001b[0;32m     15\u001b[0m t1\u001b[38;5;241m.\u001b[39mstart()\n\u001b[0;32m     16\u001b[0m \u001b[38;5;66;03m# t1.join()\u001b[39;00m\n\u001b[1;32m---> 17\u001b[0m \u001b[38;5;28mprint\u001b[39m(t1\u001b[38;5;241m.\u001b[39mtemp)\n",
      "\u001b[1;31mAttributeError\u001b[0m: 'MyThread' object has no attribute 'temp'"
     ]
    }
   ],
   "source": [
    "from threading import Thread\n",
    "import time\n",
    "\n",
    "class MyThread(Thread):\n",
    "    def __init__(self,a,b):\n",
    "        self.a=a\n",
    "        self.b=b\n",
    "        super().__init__()\n",
    "    def run(self):\n",
    "        time.sleep(5)\n",
    "        self.temp=self.a+self.b\n",
    "        \n",
    "\n",
    "t1=MyThread(3,4)\n",
    "t1.start()\n",
    "# t1.join()\n",
    "print(t1.temp)"
   ]
  },
  {
   "cell_type": "code",
   "execution_count": 6,
   "id": "f161d507-6328-4ee8-890f-14168dc0abf9",
   "metadata": {},
   "outputs": [
    {
     "name": "stdout",
     "output_type": "stream",
     "text": [
      "DisplayLearning threading\n",
      "Thread-13 (display)\n",
      "Thread-14 (show)\n",
      "12556\n",
      "12556\n",
      "19620\n",
      "\n",
      "Display\n",
      "Display\n",
      "Display\n"
     ]
    }
   ],
   "source": [
    "from threading import Thread, current_thread\n",
    "import os\n",
    "\n",
    "def display():\n",
    "    for i in range(4):\n",
    "        print('Display')\n",
    "def show():\n",
    "    for i in range(4):\n",
    "        print('Show')\n",
    "\n",
    "t1=Thread(target=display)\n",
    "t2=Thread(target=show)\n",
    "current_thread().name='Learning threading'\n",
    "t1.start()\n",
    "\n",
    "\n",
    "print(current_thread().name)\n",
    "print(t1.name)\n",
    "print(t2.name)\n",
    "print(t1.ident)\n",
    "print(t1.native_id)\n",
    "print(os.getpid())"
   ]
  },
  {
   "cell_type": "code",
   "execution_count": null,
   "id": "73d20003-6835-44ca-871d-adb4af0d94ec",
   "metadata": {},
   "outputs": [],
   "source": [
    "# is_alive()"
   ]
  },
  {
   "cell_type": "code",
   "execution_count": 10,
   "id": "c7322ada-33d0-4a7e-97cc-d1ad27f36f18",
   "metadata": {},
   "outputs": [
    {
     "name": "stdout",
     "output_type": "stream",
     "text": [
      "Before : False\n",
      "Display\n",
      "Display\n",
      "Display\n",
      "Display\n",
      "After : False\n"
     ]
    }
   ],
   "source": [
    "from threading import Thread\n",
    "\n",
    "def display():\n",
    "    for i in range(4):\n",
    "        print('Display')\n",
    "def show():\n",
    "    for i in range(4):\n",
    "        print('Show')\n",
    "\n",
    "t1=Thread(target=display)\n",
    "print('Before :', t1.is_alive())\n",
    "t1.start()\n",
    "print('After :', t1.is_alive())"
   ]
  },
  {
   "cell_type": "code",
   "execution_count": 11,
   "id": "7553eabe-7f8f-47a8-8f1a-c7018eedd605",
   "metadata": {},
   "outputs": [],
   "source": [
    "# main_thread"
   ]
  },
  {
   "cell_type": "code",
   "execution_count": 13,
   "id": "4bc5fa3b-9b62-45fa-a5ef-c68a00baa4f7",
   "metadata": {},
   "outputs": [
    {
     "name": "stdout",
     "output_type": "stream",
     "text": [
      "Before : False\n",
      "Main thread details : <_MainThread(Learning threading, started 18616)>\n",
      "Display\n",
      "Display\n",
      "Display\n",
      "Display\n"
     ]
    }
   ],
   "source": [
    "from threading import Thread, main_thread\n",
    "\n",
    "def display():\n",
    "    print('Main thread details :',main_thread() )\n",
    "    for i in range(4):\n",
    "        print('Display')\n",
    "def show():\n",
    "    for i in range(4):\n",
    "        print('Show')\n",
    "\n",
    "t1=Thread(target=display)\n",
    "print('Before :', t1.is_alive())\n",
    "t1.start()"
   ]
  },
  {
   "cell_type": "code",
   "execution_count": 14,
   "id": "07a6e4d9-15c8-4096-8eca-077eecf1f8cb",
   "metadata": {},
   "outputs": [],
   "source": [
    "# active_count()"
   ]
  },
  {
   "cell_type": "code",
   "execution_count": 3,
   "id": "15018968-5284-43cf-9835-5e33a2451992",
   "metadata": {},
   "outputs": [
    {
     "name": "stdout",
     "output_type": "stream",
     "text": [
      "Before : False\n",
      "Main thread details : <_MainThread(MainThread, started 19188)>\n",
      "Display\n",
      "Display\n",
      "Display\n",
      "Display\n",
      "Num thread running:  9\n"
     ]
    }
   ],
   "source": [
    "from threading import Thread, main_thread, active_count\n",
    "\n",
    "def display():\n",
    "    print('Main thread details :',main_thread() )\n",
    "    for i in range(4):\n",
    "        print('Display')\n",
    "def show():\n",
    "    for i in range(4):\n",
    "        print('Show')\n",
    "\n",
    "t1=Thread(target=display)\n",
    "print('Before :', t1.is_alive())\n",
    "t1.start()\n",
    "print('Num thread running: ', active_count())"
   ]
  },
  {
   "cell_type": "code",
   "execution_count": 2,
   "id": "b9762218-3054-428c-9729-1e79f413b8b8",
   "metadata": {},
   "outputs": [],
   "source": [
    "# enumerate()"
   ]
  },
  {
   "cell_type": "code",
   "execution_count": 5,
   "id": "4a440f13-04e8-4c24-a801-f60915239011",
   "metadata": {},
   "outputs": [
    {
     "name": "stdout",
     "output_type": "stream",
     "text": [
      "Before : False\n",
      "Main thread details : <_MainThread(MainThread, started 19188)>\n",
      "Display\n",
      "Display\n",
      "Display\n",
      "Display\n",
      "Enum:  [<_MainThread(MainThread, started 19188)>, <Thread(IOPub, started daemon 22536)>, <Heartbeat(Heartbeat, started daemon 12584)>, <Thread(Tornado selector, started daemon 2524)>, <ControlThread(Control, started daemon 16072)>, <Thread(Tornado selector, started daemon 17096)>, <HistorySavingThread(IPythonHistorySavingThread, started 23448)>, <ParentPollerWindows(Thread-4, started daemon 16296)>, <Thread(Tornado selector, started daemon 7696)>]\n"
     ]
    }
   ],
   "source": [
    "from threading import Thread, main_thread, active_count, enumerate\n",
    "\n",
    "def display():\n",
    "    print('Main thread details :',main_thread() )\n",
    "    for i in range(4):\n",
    "        print('Display')\n",
    "def show():\n",
    "    for i in range(4):\n",
    "        print('Show')\n",
    "\n",
    "t1=Thread(target=display)\n",
    "print('Before :', t1.is_alive())\n",
    "t1.start()\n",
    "print('Enum: ', enumerate())"
   ]
  },
  {
   "cell_type": "code",
   "execution_count": null,
   "id": "c626c822-e344-4115-8cde-06b62f20895a",
   "metadata": {},
   "outputs": [],
   "source": [
    "# get_native_id()"
   ]
  },
  {
   "cell_type": "code",
   "execution_count": 6,
   "id": "5065fdf4-71a5-45e3-af9f-5fb587e6e4a7",
   "metadata": {},
   "outputs": [
    {
     "name": "stdout",
     "output_type": "stream",
     "text": [
      "Before : False\n",
      "Native id of display Thread  18560\n",
      "Main thread details : <_MainThread(MainThread, started 19188)>\n",
      "Display\n",
      "Display\n",
      "Display\n",
      "Display\n",
      "Native id of Main Thread  19188\n"
     ]
    }
   ],
   "source": [
    "from threading import Thread, main_thread, active_count, enumerate, get_native_id\n",
    "\n",
    "def display():\n",
    "    print('Native id of display Thread ', get_native_id())\n",
    "    print('Main thread details :',main_thread() )\n",
    "    for i in range(4):\n",
    "        print('Display')\n",
    "def show():\n",
    "    for i in range(4):\n",
    "        print('Show')\n",
    "\n",
    "t1=Thread(target=display)\n",
    "print('Before :', t1.is_alive())\n",
    "t1.start()\n",
    "print('Native id of Main Thread ', get_native_id())"
   ]
  },
  {
   "cell_type": "code",
   "execution_count": 9,
   "id": "7d9afcfa-a07f-4b94-af06-17bb53a5d914",
   "metadata": {},
   "outputs": [
    {
     "name": "stdout",
     "output_type": "stream",
     "text": [
      "Upload started ...\n",
      "Subscribers notified of the new upload\n",
      "This is main thread\n",
      "Video uploaded ...\n"
     ]
    }
   ],
   "source": [
    "from threading import Thread\n",
    "from time import sleep\n",
    "\n",
    "def upload():\n",
    "    print('Upload started ...')\n",
    "    sleep(3)\n",
    "    print('Video uploaded ...')\n",
    "\n",
    "def notify():\n",
    "    print('Subscribers notified of the new upload')\n",
    "\n",
    "t1=Thread(target=upload)\n",
    "t2=Thread(target=notify)\n",
    "t1.start()\n",
    "t2.start()\n",
    "\n",
    "print('This is main thread')"
   ]
  },
  {
   "cell_type": "code",
   "execution_count": 10,
   "id": "cdd664f1-2a7f-4e4b-b276-166c00b816a0",
   "metadata": {},
   "outputs": [],
   "source": [
    "# join()"
   ]
  },
  {
   "cell_type": "code",
   "execution_count": 12,
   "id": "288ee7d5-1305-4055-9376-cdbb0f26d333",
   "metadata": {},
   "outputs": [
    {
     "name": "stdout",
     "output_type": "stream",
     "text": [
      "upload started...\n",
      "Subscribers notified\n",
      "Main Thread\n",
      "vvideo uploaded...\n"
     ]
    }
   ],
   "source": [
    "from threading import Thread\n",
    "from time import sleep\n",
    "\n",
    "def upload():\n",
    "    print('upload started...')\n",
    "    sleep(3)\n",
    "    print('vvideo uploaded...')\n",
    "\n",
    "def notify():\n",
    "    print('Subscribers notified')\n",
    "\n",
    "t1=Thread(target=upload)\n",
    "t2=Thread(target=notify)\n",
    "t1.start()\n",
    "t2.start()\n",
    "print('Main Thread')"
   ]
  },
  {
   "cell_type": "code",
   "execution_count": 13,
   "id": "196278d7-4d72-4681-ae39-873779738b48",
   "metadata": {},
   "outputs": [
    {
     "name": "stdout",
     "output_type": "stream",
     "text": [
      "upload started...\n",
      "vvideo uploaded...\n",
      "Subscribers notified\n",
      "Main Thread\n"
     ]
    }
   ],
   "source": [
    "from threading import Thread\n",
    "from time import sleep\n",
    "\n",
    "def upload():\n",
    "    print('upload started...')\n",
    "    sleep(3)\n",
    "    print('vvideo uploaded...')\n",
    "\n",
    "def notify():\n",
    "    print('Subscribers notified')\n",
    "\n",
    "t1=Thread(target=upload)\n",
    "t2=Thread(target=notify)\n",
    "t1.start()\n",
    "t1.join()\n",
    "t2.start()\n",
    "print('Main Thread')"
   ]
  },
  {
   "cell_type": "code",
   "execution_count": 14,
   "id": "a2b5e8c2-b421-475a-8137-947560cdb9f8",
   "metadata": {},
   "outputs": [],
   "source": [
    "# threads and join()"
   ]
  },
  {
   "cell_type": "code",
   "execution_count": 22,
   "id": "ebcf991a-52b9-4ed9-91fd-c63c654ea910",
   "metadata": {},
   "outputs": [
    {
     "name": "stdout",
     "output_type": "stream",
     "text": [
      "Display\n",
      "Display\n",
      "Display\n",
      "Display\n",
      "Show\n",
      "Show\n",
      "Show\n",
      "Show\n",
      "main thread\n",
      "main thread\n",
      "main thread\n",
      "main thread\n"
     ]
    }
   ],
   "source": [
    "from threading import Thread\n",
    "\n",
    "def display():\n",
    "    for i in range(4):\n",
    "        print('Display')\n",
    "    \n",
    "def show():\n",
    "    for i in range(4):\n",
    "        print('Show')\n",
    "\n",
    "t1=Thread(target=display)\n",
    "t2=Thread(target=show)\n",
    "t1.start()\n",
    "t2.start()\n",
    "t1.join()\n",
    "t2.join()\n",
    "for i in range(4):\n",
    "    print('main thread')"
   ]
  },
  {
   "cell_type": "code",
   "execution_count": null,
   "id": "3377280b-4c9c-4aab-bbc3-486d244c5540",
   "metadata": {},
   "outputs": [],
   "source": [
    "# prog with and without multithreading"
   ]
  },
  {
   "cell_type": "code",
   "execution_count": 24,
   "id": "c8c94d9a-05c9-49f4-a204-cdc1009c233e",
   "metadata": {},
   "outputs": [
    {
     "name": "stdout",
     "output_type": "stream",
     "text": [
      "printing square\n",
      "printing cube\n",
      "square : 9\n",
      "Cube : 27\n",
      "Time taken  1.0084030628204346\n"
     ]
    }
   ],
   "source": [
    "from threading import Thread\n",
    "import time\n",
    "\n",
    "def cube(num):\n",
    "    print('printing cube')\n",
    "    time.sleep(1)\n",
    "    print('Cube :',num**3)\n",
    "\n",
    "def square(num):\n",
    "    print('printing square')\n",
    "    time.sleep(1)\n",
    "    print('square :',num**2)\n",
    "\n",
    "start=time.time()\n",
    "t1=Thread(target=square, args=(3,))\n",
    "t2=Thread(target=cube, args=(3,))\n",
    "\n",
    "t1.start()\n",
    "t2.start()\n",
    "t1.join()\n",
    "t2.join()\n",
    "print('Time taken ', time.time()-start)"
   ]
  },
  {
   "cell_type": "code",
   "execution_count": 25,
   "id": "1a6fd264-6ca6-4d4a-8b12-4866648ee503",
   "metadata": {},
   "outputs": [
    {
     "name": "stdout",
     "output_type": "stream",
     "text": [
      "printing square\n",
      "square : 9\n",
      "printing cube\n",
      "Cube : 27\n",
      "Time taken  2.0025651454925537\n"
     ]
    }
   ],
   "source": [
    "import time\n",
    "\n",
    "def cube(num):\n",
    "    print('printing cube')\n",
    "    time.sleep(1)\n",
    "    print('Cube :',num**3)\n",
    "\n",
    "def square(num):\n",
    "    print('printing square')\n",
    "    time.sleep(1)\n",
    "    print('square :',num**2)\n",
    "\n",
    "start=time.time()\n",
    "square(3)\n",
    "cube(3)\n",
    "print('Time taken ', time.time()-start)"
   ]
  },
  {
   "cell_type": "code",
   "execution_count": 26,
   "id": "289ccb67-0342-4dc5-9192-5540d72ad352",
   "metadata": {},
   "outputs": [],
   "source": [
    "#Race condition"
   ]
  },
  {
   "cell_type": "code",
   "execution_count": 40,
   "id": "c690ec55-7feb-4fe1-bcc7-8091b10a6461",
   "metadata": {},
   "outputs": [
    {
     "name": "stdout",
     "output_type": "stream",
     "text": [
      "Expected: 2000, Got: 2000\n"
     ]
    }
   ],
   "source": [
    "import threading\n",
    "\n",
    "counter=0\n",
    "\n",
    "def increment_counter():\n",
    "    global counter\n",
    "    for _ in range(1000):\n",
    "        current_value = counter  # Read the current value\n",
    "        counter = current_value + 1  # Increment and write back\n",
    "\n",
    "thread1 = threading.Thread(target=increment_counter)\n",
    "thread2 = threading.Thread(target=increment_counter)\n",
    "\n",
    "thread1.start()\n",
    "thread2.start()\n",
    "\n",
    "thread1.join()\n",
    "thread2.join()\n",
    "\n",
    "print(f\"Expected: 2000, Got: {counter}\")"
   ]
  },
  {
   "cell_type": "code",
   "execution_count": 2,
   "id": "15a12c7f-1ff6-4fc6-b4ca-f4dbc563a599",
   "metadata": {},
   "outputs": [],
   "source": [
    "#Example - Bus ticketing system"
   ]
  },
  {
   "cell_type": "code",
   "execution_count": 6,
   "id": "c4d48ee8-a63e-46ff-bbb3-1dd8234ff8bb",
   "metadata": {},
   "outputs": [
    {
     "name": "stdout",
     "output_type": "stream",
     "text": [
      "Availabe_seats are : 2\n",
      "1 are allocated to Raj\n",
      "Availabe_seats are : 1\n",
      "1 are allocated to Jay\n"
     ]
    }
   ],
   "source": [
    "from threading import *\n",
    "\n",
    "class Bus:\n",
    "    def __init__(self,name,  availabe_seats):\n",
    "        self.availabe_seats=availabe_seats\n",
    "    def reserve(self, need_seats):\n",
    "        print('Availabe_seats are :', self.availabe_seats)\n",
    "        if self.availabe_seats>=need_seats:\n",
    "            nm=current_thread().name\n",
    "            print(f'{need_seats} are allocated to {nm}')\n",
    "            self.availabe_seats-=need_seats\n",
    "        else:\n",
    "            print('Sorry ! seats are not available')\n",
    "\n",
    "b1=Bus('Raj Bus', 2)\n",
    "t1=Thread(target=b1.reserve, args=(2,), name='Raj')\n",
    "t2=Thread(target=b1.reserve, args=(1,), name='Jay')\n",
    "t1.start()\n",
    "t2.start()"
   ]
  },
  {
   "cell_type": "code",
   "execution_count": 7,
   "id": "3362b5d9-8562-456e-a548-e961db0ba3fd",
   "metadata": {},
   "outputs": [],
   "source": [
    "#Lock"
   ]
  },
  {
   "cell_type": "code",
   "execution_count": 17,
   "id": "6eade012-b8f7-4d62-b148-a2c6b39c4228",
   "metadata": {},
   "outputs": [
    {
     "name": "stdout",
     "output_type": "stream",
     "text": [
      "Hello\n",
      "Hello\n",
      "Hello\n",
      "Hello\n",
      "Hello\n",
      "Welcome\n",
      "Welcome\n",
      "Welcome\n",
      "Welcome\n",
      "Welcome\n"
     ]
    }
   ],
   "source": [
    "from threading import *\n",
    "from time import sleep\n",
    "\n",
    "lock=Lock()\n",
    "\n",
    "def task(lock,msg):\n",
    "    for i in range(5):\n",
    "        print(msg)\n",
    "    sleep(3)\n",
    "\n",
    "t1=Thread(target=task, args=(lock, 'Hello'))\n",
    "t2=Thread(target=task, args=(lock, 'Welcome'))\n",
    "t1.start()\n",
    "t2.start()"
   ]
  },
  {
   "cell_type": "code",
   "execution_count": 18,
   "id": "0fc48d99-4487-4a25-a183-1f25957c5321",
   "metadata": {},
   "outputs": [],
   "source": [
    "# Acquire and release lock"
   ]
  },
  {
   "cell_type": "code",
   "execution_count": 19,
   "id": "8762ba34-c967-4f47-877e-14dce5916e4c",
   "metadata": {},
   "outputs": [
    {
     "name": "stdout",
     "output_type": "stream",
     "text": [
      "Hello\n",
      "Hello\n",
      "Hello\n",
      "Hello\n",
      "Hello\n",
      "Welcome\n",
      "Welcome\n",
      "Welcome\n",
      "Welcome\n",
      "Welcome\n"
     ]
    },
    {
     "name": "stderr",
     "output_type": "stream",
     "text": [
      "Exception in thread Thread-32 (task):\n",
      "Traceback (most recent call last):\n",
      "  File \"C:\\Users\\abhay\\anaconda3\\Lib\\threading.py\", line 1075, in _bootstrap_inner\n",
      "    self.run()\n",
      "  File \"C:\\Users\\abhay\\anaconda3\\Lib\\threading.py\", line 1012, in run\n",
      "    self._target(*self._args, **self._kwargs)\n",
      "  File \"C:\\Users\\abhay\\AppData\\Local\\Temp\\ipykernel_22332\\818709644.py\", line 11, in task\n",
      "RuntimeError: release unlocked lock\n"
     ]
    }
   ],
   "source": [
    "# with timeout=1\n",
    "from threading import *\n",
    "from time import sleep\n",
    "\n",
    "lock=Lock()\n",
    "\n",
    "def task(lock,msg):\n",
    "    lock.acquire(timeout=1)\n",
    "    for i in range(5):\n",
    "        print(msg)\n",
    "    sleep(3)\n",
    "    lock.release()\n",
    "\n",
    "t1=Thread(target=task, args=(lock, 'Hello'))\n",
    "t2=Thread(target=task, args=(lock, 'Welcome'))\n",
    "t1.start()\n",
    "t2.start()"
   ]
  },
  {
   "cell_type": "code",
   "execution_count": 20,
   "id": "f387ce11-cf03-4748-830b-f739492a1e3b",
   "metadata": {},
   "outputs": [
    {
     "name": "stdout",
     "output_type": "stream",
     "text": [
      "HelloWelcome\n",
      "Welcome\n",
      "Welcome\n",
      "Welcome\n",
      "Welcome\n",
      "\n",
      "Hello\n",
      "Hello\n",
      "Hello\n",
      "Hello\n"
     ]
    },
    {
     "name": "stderr",
     "output_type": "stream",
     "text": [
      "Exception in thread Thread-34 (task):\n",
      "Traceback (most recent call last):\n",
      "  File \"C:\\Users\\abhay\\anaconda3\\Lib\\threading.py\", line 1075, in _bootstrap_inner\n",
      "    self.run()\n",
      "  File \"C:\\Users\\abhay\\anaconda3\\Lib\\threading.py\", line 1012, in run\n",
      "    self._target(*self._args, **self._kwargs)\n",
      "  File \"C:\\Users\\abhay\\AppData\\Local\\Temp\\ipykernel_22332\\819767635.py\", line 11, in task\n",
      "RuntimeError: release unlocked lock\n"
     ]
    }
   ],
   "source": [
    "#with blocking = False\n",
    "\n",
    "from threading import *\n",
    "from time import sleep\n",
    "\n",
    "lock=Lock()\n",
    "\n",
    "def task(lock,msg):\n",
    "    lock.acquire(blocking=False)\n",
    "    for i in range(5):\n",
    "        print(msg)\n",
    "    sleep(3)\n",
    "    lock.release()\n",
    "\n",
    "t1=Thread(target=task, args=(lock, 'Hello'))\n",
    "t2=Thread(target=task, args=(lock, 'Welcome'))\n",
    "t1.start()\n",
    "t2.start()"
   ]
  },
  {
   "cell_type": "code",
   "execution_count": 21,
   "id": "60dd3282-db3b-4823-84f8-26201ed0483c",
   "metadata": {},
   "outputs": [],
   "source": [
    "# correct Bus ticketing example lock"
   ]
  },
  {
   "cell_type": "code",
   "execution_count": 22,
   "id": "c975960a-72ff-4e0a-8094-4cb426908b5e",
   "metadata": {},
   "outputs": [
    {
     "name": "stdout",
     "output_type": "stream",
     "text": [
      "Availabe_seats are : 2\n",
      "2 are allocated to Raj\n",
      "Availabe_seats are : 0\n",
      "Sorry ! seats are not available\n"
     ]
    }
   ],
   "source": [
    "from threading import *\n",
    "lock=Lock()\n",
    "\n",
    "class Bus:\n",
    "    def __init__(self,name,  availabe_seats, lock):\n",
    "        self.availabe_seats=availabe_seats\n",
    "        self.lock=lock\n",
    "    def reserve(self, need_seats):\n",
    "        self.lock.acquire()\n",
    "        print('Availabe_seats are :', self.availabe_seats)\n",
    "        if self.availabe_seats>=need_seats:\n",
    "            nm=current_thread().name\n",
    "            print(f'{need_seats} are allocated to {nm}')\n",
    "            self.availabe_seats-=need_seats\n",
    "        else:\n",
    "            print('Sorry ! seats are not available')\n",
    "        self.lock.release()\n",
    "\n",
    "b1=Bus('Raj Bus', 2, lock)\n",
    "t1=Thread(target=b1.reserve, args=(2,), name='Raj')\n",
    "t2=Thread(target=b1.reserve, args=(1,), name='Jay')\n",
    "t1.start()\n",
    "t2.start()"
   ]
  },
  {
   "cell_type": "code",
   "execution_count": 23,
   "id": "86790627-11a3-4b02-8c20-f7f5d334b353",
   "metadata": {},
   "outputs": [],
   "source": [
    "#RLock"
   ]
  },
  {
   "cell_type": "code",
   "execution_count": null,
   "id": "dbf9954b-0fc9-47b0-9860-2565c2dbd56d",
   "metadata": {},
   "outputs": [],
   "source": [
    "#multiple acquire and release\n",
    "\n",
    "from threading import *\n",
    "rlock=RLock()\n",
    "\n",
    "class Bus:\n",
    "    def __init__(self,name,  availabe_seats, rlock):\n",
    "        self.availabe_seats=availabe_seats\n",
    "        self.rlock=rlock\n",
    "    def reserve(self, need_seats):\n",
    "        self.rlock.acquire()\n",
    "        print('Availabe_seats are :', self.availabe_seats)\n",
    "        if self.availabe_seats>=need_seats:\n",
    "            nm=current_thread().name\n",
    "            print(f'{need_seats} are allocated to {nm}')\n",
    "            self.availabe_seats-=need_seats\n",
    "        else:\n",
    "            print('Sorry ! seats are not available')\n",
    "        self.rlock.release()\n",
    "\n",
    "b1=Bus('Raj Bus', 2, rlock)\n",
    "t1=Thread(target=b1.reserve, args=(2,), name='Raj')\n",
    "t2=Thread(target=b1.reserve, args=(1,), name='Jay')\n",
    "t1.start()\n",
    "t2.start()"
   ]
  },
  {
   "cell_type": "code",
   "execution_count": 24,
   "id": "a13eb311-d003-4523-b897-cc0616bbd033",
   "metadata": {},
   "outputs": [],
   "source": [
    "#Need of rLock example"
   ]
  },
  {
   "cell_type": "code",
   "execution_count": null,
   "id": "d134a872-8d9d-4584-b011-8b7a05766824",
   "metadata": {},
   "outputs": [],
   "source": [
    "from threading import *\n",
    "from time import sleep\n",
    "\n",
    "l=Lock()\n",
    "\n",
    "def get_first_line():\n",
    "    l.acquire()\n",
    "    print('1st line from file')\n",
    "    l.release()\n",
    "\n",
    "def get_second_line():\n",
    "    l.acquire()\n",
    "    print('2nd line from file')\n",
    "    l.release()\n",
    "\n",
    "def main():\n",
    "    l.acquire()\n",
    "    get_first_line()\n",
    "    get_second_line()\n",
    "    l.release()\n",
    "\n",
    "t1=Thread(target=main)\n",
    "t1.start()"
   ]
  },
  {
   "cell_type": "code",
   "execution_count": 25,
   "id": "4674bcee-d130-4b7a-a232-2fd146143219",
   "metadata": {},
   "outputs": [],
   "source": [
    "#Semaphore"
   ]
  },
  {
   "cell_type": "code",
   "execution_count": null,
   "id": "f6b44a64-23db-46c1-b193-7d16d9da39ad",
   "metadata": {},
   "outputs": [],
   "source": [
    "from threading import *\n",
    "import time\n",
    "\n",
    "obj=Semaphore(3)\n",
    "\n",
    "def display(name):\n",
    "    obj.acquire()\n",
    "    for i in range(5):\n",
    "        print('Hello')\n",
    "        print(name)\n",
    "        time.sleep(1)\n",
    "    obj.release()\n",
    "\n",
    "t1=Thread(target=display, args=('Thread-1',))\n",
    "t2=Thread(target=display, args=('Thread-2',))\n",
    "t3=Thread(target=display, args=('Thread-3',))\n",
    "t4=Thread(target=display, args=('Thread-4',))\n",
    "t5=Thread(target=display, args=('Thread-5',))\n",
    "\n",
    "t1.start()\n",
    "t2.start()\n",
    "t3.start()\n",
    "t4.start()\n",
    "t5.start()"
   ]
  },
  {
   "cell_type": "code",
   "execution_count": 26,
   "id": "ef5012e0-02ee-47b1-8b82-2a4422cc20a2",
   "metadata": {},
   "outputs": [],
   "source": [
    "#Exception in one thread does not affect other threads"
   ]
  },
  {
   "cell_type": "code",
   "execution_count": 27,
   "id": "15afcfb7-64cd-47a7-803e-6b49d78b9aa3",
   "metadata": {},
   "outputs": [
    {
     "name": "stderr",
     "output_type": "stream",
     "text": [
      "Exception in thread Thread-35 (display):\n",
      "Traceback (most recent call last):\n",
      "  File \"C:\\Users\\abhay\\anaconda3\\Lib\\threading.py\", line 1075, in _bootstrap_inner\n",
      "    self.run()\n",
      "  File \"C:\\Users\\abhay\\anaconda3\\Lib\\threading.py\", line 1012, in run\n",
      "    self._target(*self._args, **self._kwargs)\n",
      "  File \"C:\\Users\\abhay\\AppData\\Local\\Temp\\ipykernel_22332\\2989048194.py\", line 6, in display\n",
      "TypeError: can only concatenate str (not \"int\") to str\n"
     ]
    },
    {
     "name": "stdout",
     "output_type": "stream",
     "text": [
      "show\n",
      "show\n",
      "show\n",
      "show\n",
      "main\n",
      "main\n",
      "main\n",
      "main\n"
     ]
    }
   ],
   "source": [
    "from threading import Thread\n",
    "import time\n",
    "\n",
    "def display():\n",
    "    for i in range(4):\n",
    "        print('display'+10)\n",
    "\n",
    "def show():\n",
    "    for i in range(4):\n",
    "        print('show')\n",
    "\n",
    "t1=Thread(target=display)\n",
    "t2=Thread(target=show)\n",
    "t1.start()    #run() --> display()\n",
    "t2.start()\n",
    "t1.join()\n",
    "t2.join()\n",
    "for i in range(4):\n",
    "    print('main')\n",
    "        "
   ]
  },
  {
   "cell_type": "code",
   "execution_count": 28,
   "id": "1263d726-0131-4eeb-be31-83713389dedb",
   "metadata": {},
   "outputs": [],
   "source": [
    "#threading.excepthook, custom excepthook, overridding threading.excepthook"
   ]
  },
  {
   "cell_type": "code",
   "execution_count": 32,
   "id": "b0b42c9b-77b5-4edc-b711-04229b7a1953",
   "metadata": {},
   "outputs": [
    {
     "name": "stdout",
     "output_type": "stream",
     "text": [
      "<class 'TypeError'>\n",
      "can only concatenate str (not \"int\") to str\n",
      "<traceback object at 0x000002190CBBA300>\n",
      "<Thread(Thread-41 (display), started 2440)>\n",
      "show\n",
      "show\n",
      "show\n",
      "show\n",
      "main\n",
      "main\n",
      "main\n",
      "main\n"
     ]
    }
   ],
   "source": [
    "# from threading import *\n",
    "import threading\n",
    "import time\n",
    "\n",
    "def custom_hook(args):\n",
    "    print(args[0])\n",
    "    print(args[1])\n",
    "    print(args[2])\n",
    "    print(args[3])\n",
    "\n",
    "\n",
    "def display():\n",
    "    for i in range(4):\n",
    "        print('display'+10)\n",
    "\n",
    "def show():\n",
    "    for i in range(4):\n",
    "        print('show')\n",
    "\n",
    "threading.excepthook=custom_hook\n",
    "t1=threading.Thread(target=display)\n",
    "t2=threading.Thread(target=show)\n",
    "t1.start()    #run() --> display()\n",
    "t2.start()\n",
    "t1.join()\n",
    "t2.join()\n",
    "for i in range(4):\n",
    "    print('main')\n",
    "        "
   ]
  },
  {
   "cell_type": "code",
   "execution_count": 33,
   "id": "3827361b-2c7f-4a2b-839d-2d8860e64124",
   "metadata": {},
   "outputs": [],
   "source": [
    "# Thread communication: Event object Example 01"
   ]
  },
  {
   "cell_type": "code",
   "execution_count": 34,
   "id": "01873525-9f55-4af5-9acd-e2ad74a0ab12",
   "metadata": {},
   "outputs": [
    {
     "name": "stdout",
     "output_type": "stream",
     "text": [
      "Game started...\n",
      "Destroying the session...\n"
     ]
    }
   ],
   "source": [
    "import threading\n",
    "import time\n",
    "\n",
    "e=threading.Event()\n",
    "\n",
    "def task():\n",
    "    print('Game started...')\n",
    "    time.sleep(3)\n",
    "    e.set()\n",
    "\n",
    "def end():\n",
    "    e.wait()\n",
    "    if e.is_set():\n",
    "        print('Destroying the session...')\n",
    "\n",
    "t1=threading.Thread(target=task)\n",
    "t2=threading.Thread(target=end)\n",
    "\n",
    "t1.start()\n",
    "t2.start()"
   ]
  },
  {
   "cell_type": "code",
   "execution_count": 35,
   "id": "c9622239-1a8e-4b5e-a2c1-6088efece612",
   "metadata": {},
   "outputs": [],
   "source": [
    "#Event object Example 01 : Traffic light"
   ]
  },
  {
   "cell_type": "code",
   "execution_count": null,
   "id": "cb22eb91-374a-4351-a71e-cd812de23b65",
   "metadata": {},
   "outputs": [],
   "source": [
    "from threading import *\n",
    "import time\n",
    "\n",
    "e=Event()\n",
    "\n",
    "def light_switch():\n",
    "    while True:\n",
    "        print('Light is green :')\n",
    "        e.set()\n",
    "        time.sleep(5)\n",
    "        print('Light is red.')\n",
    "        e.clear()\n",
    "        time.sleep(5)\n",
    "        e.set()\n",
    "\n",
    "def traffic_message():\n",
    "    e.wait()\n",
    "    while e.is_set():\n",
    "        print('You can go !')\n",
    "        time.sleep(.5)\n",
    "        e.wait()\n",
    "\n",
    "t1=Thread(target=light_switch)\n",
    "t2=Thread(target=traffic_message)\n",
    "t1.start()\n",
    "t2.start()"
   ]
  },
  {
   "cell_type": "code",
   "execution_count": 3,
   "id": "8485c459-76ed-4848-afe1-a6bc56a13976",
   "metadata": {},
   "outputs": [],
   "source": [
    "# Condition object: Example Producer consumer problem : pro write temp to a txt file and cons read and find avg, max"
   ]
  },
  {
   "cell_type": "code",
   "execution_count": 10,
   "id": "066e7751-63d9-4c9e-b5e8-98412e0e0f05",
   "metadata": {},
   "outputs": [
    {
     "name": "stdin",
     "output_type": "stream",
     "text": [
      "Enter the temperature for Mon 21\n",
      "Enter the temperature for Tue 22\n",
      "Enter the temperature for Wed 23\n",
      "Enter the temperature for Thu 24\n",
      "Enter the temperature for Fri 25\n",
      "Enter the temperature for Sat 26\n",
      "Enter the temperature for Sun 27\n"
     ]
    },
    {
     "name": "stdout",
     "output_type": "stream",
     "text": [
      "Maximum temperature is: 27.0\n",
      "Average temperature is: 21.0\n"
     ]
    }
   ],
   "source": [
    "from threading import *\n",
    "import time\n",
    "\n",
    "def write_data():\n",
    "    con.acquire()\n",
    "    with open('report.txt', 'w') as file1:\n",
    "        days=['Mon', 'Tue', 'Wed', 'Thu', 'Fri', 'Sat', 'Sun']\n",
    "        for day in days:\n",
    "            temp=input(f\"Enter the temperature for {day}\")\n",
    "            file1.write(temp+\"\\n\")\n",
    "        con.notify_all()\n",
    "    con.release()\n",
    "\n",
    "def max_temp():\n",
    "    con.acquire()\n",
    "    con.wait(timeout=0)\n",
    "    with open('report.txt', 'r') as file1:\n",
    "        data=file1.readlines()\n",
    "        max1=float(data[0].strip(\"\\n\"))\n",
    "        for temp in data[1:]:\n",
    "            temp=float(temp.strip(\"\\n\"))\n",
    "            if temp > max1:\n",
    "                max1=temp\n",
    "        print('Maximum temperature is:', max1)\n",
    "        con.release()\n",
    "\n",
    "def avg_temp():\n",
    "    con.acquire()\n",
    "    con.wait(timeout=0)\n",
    "    with open('report.txt', 'r') as file1:\n",
    "        data=file1.readlines()\n",
    "        sum1=0\n",
    "        for temp in data[1:]:\n",
    "            temp=float(temp.strip(\"\\n\"))\n",
    "            sum1=sum1+temp\n",
    "        avg=sum1/len(data)\n",
    "        print('Average temperature is:', avg)\n",
    "        con.release()\n",
    "\n",
    "\n",
    "con=Condition()\n",
    "t1=Thread(target=write_data)\n",
    "t2=Thread(target=max_temp)\n",
    "t3=Thread(target=avg_temp)\n",
    "t1.run()\n",
    "t2.run()\n",
    "t3.run()\n"
   ]
  },
  {
   "cell_type": "code",
   "execution_count": 11,
   "id": "3a3f0df3-356f-48cb-b83a-aa81d5de26f5",
   "metadata": {},
   "outputs": [],
   "source": [
    "# producer consumer problem using queue.Queue : produce student marks and consume it"
   ]
  },
  {
   "cell_type": "code",
   "execution_count": null,
   "id": "81abbe55-2f70-4afe-a855-86d1eb3fea2d",
   "metadata": {},
   "outputs": [],
   "source": [
    "from threading import Thread\n",
    "from queue import Queue\n",
    "from time import sleep\n",
    "\n",
    "def producer(q):\n",
    "    print('producer started')\n",
    "    n=int(input('Enter number of students: '))\n",
    "    for i in range(n):\n",
    "        marks=int(input(f\"input marks of student{i+1}: \"))\n",
    "        q.put(marks)\n",
    "    q.put(None)\n",
    "    print('producer end')\n",
    "\n",
    "def consumer(q):\n",
    "    print('consumer started')\n",
    "    while True:\n",
    "        marks=q.get()\n",
    "        if marks is None:\n",
    "            break\n",
    "        print(f\"Marks got :\",marks)\n",
    "    print('consumer end')\n",
    "\n",
    "q=Queue()\n",
    "t1=Thread(target=producer, args=(q,))\n",
    "t2=Thread(target=consumer, args=(q,))\n",
    "t1.start()\n",
    "t2.start()\n"
   ]
  },
  {
   "cell_type": "code",
   "execution_count": 15,
   "id": "5c005c68-7b19-43da-a5e7-c448f7a20543",
   "metadata": {},
   "outputs": [],
   "source": [
    "# main thread by default is a non Daemon thread"
   ]
  },
  {
   "cell_type": "code",
   "execution_count": 16,
   "id": "cabe6ec3-10f9-45e7-9c86-eedfc91853d4",
   "metadata": {},
   "outputs": [
    {
     "name": "stdout",
     "output_type": "stream",
     "text": [
      "False\n"
     ]
    }
   ],
   "source": [
    "from threading import *\n",
    "\n",
    "obj=current_thread()\n",
    "print(obj.daemon)"
   ]
  },
  {
   "cell_type": "code",
   "execution_count": 17,
   "id": "617d82d0-7770-4e46-96cd-6e54aea1ab52",
   "metadata": {},
   "outputs": [],
   "source": [
    "# a child thread's deamon nature is same as that of its parent"
   ]
  },
  {
   "cell_type": "code",
   "execution_count": 18,
   "id": "8905afd1-0de8-4060-9292-9825929c4415",
   "metadata": {},
   "outputs": [
    {
     "name": "stdout",
     "output_type": "stream",
     "text": [
      "False\n",
      "Display\n"
     ]
    }
   ],
   "source": [
    "from threading import *\n",
    "\n",
    "def display():\n",
    "    print('Display')\n",
    "\n",
    "t1=Thread(target=display)\n",
    "print(t1.daemon)\n",
    "t1.start()"
   ]
  },
  {
   "cell_type": "code",
   "execution_count": 19,
   "id": "ae2951b0-b881-4289-9b60-92beea26fb83",
   "metadata": {},
   "outputs": [],
   "source": [
    "# chnage a thread's daemon nature, cannot set daemon status of active thread"
   ]
  },
  {
   "cell_type": "code",
   "execution_count": 20,
   "id": "f5ad39e4-0ce1-4b50-815f-ea173ff2e73c",
   "metadata": {},
   "outputs": [
    {
     "name": "stdout",
     "output_type": "stream",
     "text": [
      "False\n",
      "True\n",
      "Display\n"
     ]
    }
   ],
   "source": [
    "from threading import *\n",
    "\n",
    "def display():\n",
    "    print('Display')\n",
    "\n",
    "t1=Thread(target=display)\n",
    "print(t1.daemon)\n",
    "t1.daemon=True\n",
    "print(t1.daemon)\n",
    "t1.start()"
   ]
  },
  {
   "cell_type": "code",
   "execution_count": 21,
   "id": "904439d4-4953-4483-a9b7-2fb9823be70b",
   "metadata": {},
   "outputs": [
    {
     "name": "stdout",
     "output_type": "stream",
     "text": [
      "False\n",
      "Display\n"
     ]
    },
    {
     "ename": "RuntimeError",
     "evalue": "cannot set daemon status of active thread",
     "output_type": "error",
     "traceback": [
      "\u001b[1;31m---------------------------------------------------------------------------\u001b[0m",
      "\u001b[1;31mRuntimeError\u001b[0m                              Traceback (most recent call last)",
      "Cell \u001b[1;32mIn[21], line 9\u001b[0m\n\u001b[0;32m      7\u001b[0m \u001b[38;5;28mprint\u001b[39m(t1\u001b[38;5;241m.\u001b[39mdaemon)\n\u001b[0;32m      8\u001b[0m t1\u001b[38;5;241m.\u001b[39mstart()\n\u001b[1;32m----> 9\u001b[0m t1\u001b[38;5;241m.\u001b[39mdaemon\u001b[38;5;241m=\u001b[39m\u001b[38;5;28;01mTrue\u001b[39;00m\n\u001b[0;32m     10\u001b[0m \u001b[38;5;28mprint\u001b[39m(t1\u001b[38;5;241m.\u001b[39mdaemon)\n",
      "File \u001b[1;32m~\\anaconda3\\Lib\\threading.py:1258\u001b[0m, in \u001b[0;36mThread.daemon\u001b[1;34m(self, daemonic)\u001b[0m\n\u001b[0;32m   1256\u001b[0m     \u001b[38;5;28;01mraise\u001b[39;00m \u001b[38;5;167;01mRuntimeError\u001b[39;00m(\u001b[38;5;124m'\u001b[39m\u001b[38;5;124mdaemon threads are disabled in this interpreter\u001b[39m\u001b[38;5;124m'\u001b[39m)\n\u001b[0;32m   1257\u001b[0m \u001b[38;5;28;01mif\u001b[39;00m \u001b[38;5;28mself\u001b[39m\u001b[38;5;241m.\u001b[39m_started\u001b[38;5;241m.\u001b[39mis_set():\n\u001b[1;32m-> 1258\u001b[0m     \u001b[38;5;28;01mraise\u001b[39;00m \u001b[38;5;167;01mRuntimeError\u001b[39;00m(\u001b[38;5;124m\"\u001b[39m\u001b[38;5;124mcannot set daemon status of active thread\u001b[39m\u001b[38;5;124m\"\u001b[39m)\n\u001b[0;32m   1259\u001b[0m \u001b[38;5;28mself\u001b[39m\u001b[38;5;241m.\u001b[39m_daemonic \u001b[38;5;241m=\u001b[39m daemonic\n",
      "\u001b[1;31mRuntimeError\u001b[0m: cannot set daemon status of active thread"
     ]
    }
   ],
   "source": [
    "from threading import *\n",
    "\n",
    "def display():\n",
    "    print('Display')\n",
    "\n",
    "t1=Thread(target=display)\n",
    "print(t1.daemon)\n",
    "t1.start() #satrt t1\n",
    "t1.daemon=True #change t1's daemon nature after its start\n",
    "print(t1.daemon)"
   ]
  },
  {
   "cell_type": "code",
   "execution_count": 22,
   "id": "48ba28b0-e59e-48cc-9d5c-5fc3b9d7fcc1",
   "metadata": {},
   "outputs": [],
   "source": [
    "#a child thread of t1"
   ]
  },
  {
   "cell_type": "code",
   "execution_count": 23,
   "id": "30b41697-6247-4852-b175-efcfdad4f8e7",
   "metadata": {},
   "outputs": [
    {
     "name": "stdout",
     "output_type": "stream",
     "text": [
      "t1 daemon nature: True\n",
      "Display\n",
      "t2 daemon nature: True\n"
     ]
    }
   ],
   "source": [
    "from threading import *\n",
    "\n",
    "def display():\n",
    "    print('Display')\n",
    "    t2=Thread(target=show)\n",
    "    print('t2 daemon nature:',t2.daemon)\n",
    "def show():\n",
    "    print('Show')\n",
    "\n",
    "t1=Thread(target=display)\n",
    "t1.daemon=True\n",
    "print('t1 daemon nature:',t1.daemon)\n",
    "t1.start()"
   ]
  },
  {
   "cell_type": "code",
   "execution_count": 24,
   "id": "5e6451f4-7aa5-4c39-bd67-ad1afdab9349",
   "metadata": {},
   "outputs": [],
   "source": [
    "#Use daemon thread to show syntax highlighting only till applocation runs"
   ]
  },
  {
   "cell_type": "code",
   "execution_count": null,
   "id": "23e30113-fc7b-41e1-a8e0-9ff9114c97d5",
   "metadata": {},
   "outputs": [],
   "source": [
    "from threading import Thread\n",
    "from time import sleep\n",
    "\n",
    "def syntax_highlighter():\n",
    "    while True:\n",
    "        print('Syntax highlighting...')\n",
    "        sleep(.5)\n",
    "\n",
    "t1=Thread(target=syntax_highlighter)\n",
    "t1.daemon=True\n",
    "print('Application started!')\n",
    "t1.start()\n",
    "\n",
    "sleep(3)\n",
    "print('Application closed!')"
   ]
  },
  {
   "cell_type": "code",
   "execution_count": null,
   "id": "60843977-f4fd-4253-95dc-43838606a92e",
   "metadata": {},
   "outputs": [],
   "source": []
  }
 ],
 "metadata": {
  "kernelspec": {
   "display_name": "Python 3 (ipykernel)",
   "language": "python",
   "name": "python3"
  },
  "language_info": {
   "codemirror_mode": {
    "name": "ipython",
    "version": 3
   },
   "file_extension": ".py",
   "mimetype": "text/x-python",
   "name": "python",
   "nbconvert_exporter": "python",
   "pygments_lexer": "ipython3",
   "version": "3.12.7"
  }
 },
 "nbformat": 4,
 "nbformat_minor": 5
}
