{
 "cells": [
  {
   "cell_type": "code",
   "execution_count": null,
   "id": "7be9140c-4f4f-452f-9633-918be63d3169",
   "metadata": {},
   "outputs": [],
   "source": []
  },
  {
   "cell_type": "code",
   "execution_count": null,
   "id": "632d0f16-7634-45f4-bfcb-e6dcae977ad2",
   "metadata": {},
   "outputs": [],
   "source": []
  },
  {
   "cell_type": "code",
   "execution_count": null,
   "id": "73a4c7ad-6ecc-449d-abe0-17b5314a98f1",
   "metadata": {},
   "outputs": [],
   "source": []
  },
  {
   "cell_type": "code",
   "execution_count": null,
   "id": "d72800fa-7884-425d-ac8b-5293565ef1e3",
   "metadata": {},
   "outputs": [],
   "source": []
  },
  {
   "cell_type": "code",
   "execution_count": null,
   "id": "f1d26042-0fe5-4305-859e-ff1839b44969",
   "metadata": {},
   "outputs": [],
   "source": []
  },
  {
   "cell_type": "code",
   "execution_count": null,
   "id": "5b1f2676-ab9d-4c9e-b1d8-ca067bb170fa",
   "metadata": {},
   "outputs": [],
   "source": []
  },
  {
   "cell_type": "code",
   "execution_count": null,
   "id": "acdd921b-7c63-450c-a8b2-81bff27856b7",
   "metadata": {},
   "outputs": [],
   "source": []
  },
  {
   "cell_type": "code",
   "execution_count": null,
   "id": "cb68036c-9709-4cfc-badf-7e091bcf08ef",
   "metadata": {},
   "outputs": [],
   "source": []
  },
  {
   "cell_type": "code",
   "execution_count": null,
   "id": "bfb17b99-f5db-4de2-8afc-5d4bfe68630b",
   "metadata": {},
   "outputs": [],
   "source": []
  },
  {
   "cell_type": "code",
   "execution_count": null,
   "id": "a36b12a6-6aa9-461e-becf-d4983305ce33",
   "metadata": {},
   "outputs": [],
   "source": [
    "#INSTANCE VARIABLES"
   ]
  },
  {
   "cell_type": "code",
   "execution_count": 1,
   "id": "488aa63d-fe0d-4cb6-8ddb-1a10708cb594",
   "metadata": {},
   "outputs": [
    {
     "name": "stdout",
     "output_type": "stream",
     "text": [
      "{'name': 'Akshay', 'marks': 89}\n"
     ]
    }
   ],
   "source": [
    "class Student:\n",
    "    def __init__(self, nm,m):\n",
    "        #instance vars\n",
    "        self.name=nm\n",
    "        self.marks=m\n",
    "\n",
    "std1=Student('Akshay',89)\n",
    "std2=Student('Raj',94)\n",
    "std3=Student('Jay',91)\n",
    "print(std1.__dict__)"
   ]
  },
  {
   "cell_type": "code",
   "execution_count": 8,
   "id": "dc7b2163-8a64-46e7-9f72-071dd27b01c3",
   "metadata": {},
   "outputs": [
    {
     "name": "stdout",
     "output_type": "stream",
     "text": [
      "{'name': 'Akshay', 'marks': 89, 'age': 21}\n",
      "{'name': 'Raj', 'marks': 94}\n",
      "{'marks': 94}\n"
     ]
    }
   ],
   "source": [
    "\n",
    "#add another instance variable age to std1\n",
    "std1.age=21\n",
    "print(std1.__dict__)\n",
    "print(std2.__dict__)\n",
    "#delete an instance varibale\n",
    "del std2.name\n",
    "print(std2.__dict__)"
   ]
  },
  {
   "cell_type": "code",
   "execution_count": 9,
   "id": "b34d04de-2f32-4bf2-bc00-24c78e1e9b34",
   "metadata": {},
   "outputs": [],
   "source": [
    "#Instance METHOD"
   ]
  },
  {
   "cell_type": "code",
   "execution_count": 14,
   "id": "2792a654-c0ba-4ced-a5b6-fb66282370f5",
   "metadata": {},
   "outputs": [
    {
     "name": "stdout",
     "output_type": "stream",
     "text": [
      "Raj 94\n"
     ]
    }
   ],
   "source": [
    "class Student:\n",
    "    def __init__(self, nm,m):\n",
    "        #instance vars\n",
    "        self.name=nm\n",
    "        self.marks=m\n",
    "\n",
    "    #instance method    \n",
    "    def display(self):\n",
    "        print(self.name,self.marks)\n",
    "    #instance method\n",
    "    def change_data(self):\n",
    "        self.name='ABC'\n",
    "        self.marks=100\n",
    "\n",
    "std1=Student('Akshay',89)\n",
    "std2=Student('Raj',94)\n",
    "std3=Student('Jay',91)\n",
    "std2.display()"
   ]
  },
  {
   "cell_type": "code",
   "execution_count": 15,
   "id": "95707146-b96e-4e2a-ba91-711c218d889b",
   "metadata": {},
   "outputs": [
    {
     "name": "stdout",
     "output_type": "stream",
     "text": [
      "ABC 100\n"
     ]
    }
   ],
   "source": [
    "std2.change_data()\n",
    "std2.display()"
   ]
  },
  {
   "cell_type": "code",
   "execution_count": 16,
   "id": "249a5847-46ef-446e-8512-2541c35f0dad",
   "metadata": {},
   "outputs": [],
   "source": [
    "#Class Variables"
   ]
  },
  {
   "cell_type": "code",
   "execution_count": 24,
   "id": "700ee108-ada1-4881-aef4-1ee89085b4df",
   "metadata": {},
   "outputs": [
    {
     "name": "stdout",
     "output_type": "stream",
     "text": [
      "NIT\n",
      "NIT\n",
      "NIT Sikkim\n",
      "NIT Sikkim\n",
      "{'name': 'Akshay', 'marks': 89, 'college': 'NIT Patna'}\n",
      "{'name': 'Raj', 'marks': 94}\n"
     ]
    }
   ],
   "source": [
    "class Student:\n",
    "\n",
    "    college='NIT'\n",
    "    \n",
    "    def __init__(self, nm,m):\n",
    "        #instance vars\n",
    "        self.name=nm\n",
    "        self.marks=m\n",
    "\n",
    "std1=Student('Akshay',89)\n",
    "std2=Student('Raj',94)\n",
    "#class variable accessed using ClassName\n",
    "print(Student.college)\n",
    "#class variable accessed using object\n",
    "print(std1.college)\n",
    "#modify CV using className\n",
    "Student.college='NIT Sikkim'\n",
    "print(Student.college)\n",
    "#Try to modify using instance does not modify it but creates an insnatnce variable\n",
    "std1.college='NIT Patna'\n",
    "print(Student.college)\n",
    "print(std1.__dict__)\n",
    "print(std2.__dict__)"
   ]
  },
  {
   "cell_type": "code",
   "execution_count": 25,
   "id": "1c9ac437-078b-4468-958d-8f78127775c4",
   "metadata": {},
   "outputs": [],
   "source": [
    "#Class Method"
   ]
  },
  {
   "cell_type": "code",
   "execution_count": 31,
   "id": "72e5b17b-c0c1-4ca8-9e10-74712f80ab97",
   "metadata": {},
   "outputs": [
    {
     "name": "stdout",
     "output_type": "stream",
     "text": [
      "College : NIT\n"
     ]
    },
    {
     "ename": "TypeError",
     "evalue": "Student.get_college_name() missing 1 required positional argument: 'cls'",
     "output_type": "error",
     "traceback": [
      "\u001b[1;31m---------------------------------------------------------------------------\u001b[0m",
      "\u001b[1;31mTypeError\u001b[0m                                 Traceback (most recent call last)",
      "Cell \u001b[1;32mIn[31], line 15\u001b[0m\n\u001b[0;32m     13\u001b[0m std1\u001b[38;5;241m=\u001b[39mStudent(\u001b[38;5;124m'\u001b[39m\u001b[38;5;124mAkshay\u001b[39m\u001b[38;5;124m'\u001b[39m,\u001b[38;5;241m89\u001b[39m)\n\u001b[0;32m     14\u001b[0m std1\u001b[38;5;241m.\u001b[39mget_college_name()\n\u001b[1;32m---> 15\u001b[0m \u001b[43mStudent\u001b[49m\u001b[38;5;241;43m.\u001b[39;49m\u001b[43mget_college_name\u001b[49m\u001b[43m(\u001b[49m\u001b[43m)\u001b[49m\n",
      "\u001b[1;31mTypeError\u001b[0m: Student.get_college_name() missing 1 required positional argument: 'cls'"
     ]
    }
   ],
   "source": [
    "class Student:\n",
    "\n",
    "    college='NIT'\n",
    "    \n",
    "    def __init__(self, nm,m):\n",
    "        #instance vars\n",
    "        self.name=nm\n",
    "        self.marks=m\n",
    "    # trying to create a class method without decorator @classmethod (Its actually an instance method with cls instead of self)\n",
    "    def get_college_name(cls):\n",
    "        print(f'College : {cls.college}')\n",
    "\n",
    "std1=Student('Akshay',89)\n",
    "std1.get_college_name()\n",
    "Student.get_college_name()"
   ]
  },
  {
   "cell_type": "code",
   "execution_count": 34,
   "id": "efde9ef8-cecd-4b16-af15-92cc41c65edb",
   "metadata": {},
   "outputs": [
    {
     "name": "stdout",
     "output_type": "stream",
     "text": [
      "College : NIT\n",
      "College : NIT Sikkim\n",
      "College : NIT Sikkim\n",
      "College : NIT Sikkim\n",
      "{'name': 'Akshay', 'marks': 89}\n"
     ]
    }
   ],
   "source": [
    "class Student:\n",
    "\n",
    "    college='NIT'\n",
    "    \n",
    "    def __init__(self, nm,m):\n",
    "        #instance vars\n",
    "        self.name=nm\n",
    "        self.marks=m\n",
    "    # create a class method with decorator @classmethod\n",
    "    @classmethod\n",
    "    def get_college_name(cls):\n",
    "        print(f'College : {cls.college}')\n",
    "        cls.college='NIT Sikkim'\n",
    "        print(f'College : {cls.college}')\n",
    "\n",
    "std1=Student('Akshay',89)\n",
    "std1.get_college_name()\n",
    "Student.get_college_name()\n",
    "print(std1.__dict__)"
   ]
  },
  {
   "cell_type": "code",
   "execution_count": 35,
   "id": "68f7dce3-e15f-46a2-a569-439fb1b7d85e",
   "metadata": {},
   "outputs": [],
   "source": [
    "#INSTANCE METHODS : Getter and setter methods"
   ]
  },
  {
   "cell_type": "code",
   "execution_count": 39,
   "id": "850dbc27-8082-4876-abb5-e8b15fce55b7",
   "metadata": {},
   "outputs": [
    {
     "name": "stdout",
     "output_type": "stream",
     "text": [
      "Abhay\n",
      "{'name': 'Abhay'}\n"
     ]
    }
   ],
   "source": [
    "class Student:\n",
    "\n",
    "    #setter instance method\n",
    "    def setName(self,nm):\n",
    "        self.name=nm\n",
    "\n",
    "    #getter instnace method\n",
    "    def getName(self):\n",
    "        print(self.name)\n",
    "    \n",
    "std1=Student()\n",
    "std1.setName('Abhay')\n",
    "std1.getName()\n",
    "print(std1.__dict__)"
   ]
  },
  {
   "cell_type": "code",
   "execution_count": null,
   "id": "8561646b-1275-445e-97bc-defabb6f942c",
   "metadata": {},
   "outputs": [],
   "source": [
    "#Inheritance"
   ]
  },
  {
   "cell_type": "code",
   "execution_count": 40,
   "id": "1de2ed63-1df5-427c-a8e6-5e5598b300d9",
   "metadata": {},
   "outputs": [
    {
     "name": "stdout",
     "output_type": "stream",
     "text": [
      "2000\n",
      "Emp class Method\n",
      "50000\n",
      "Manager class Method\n"
     ]
    }
   ],
   "source": [
    "class Employee:\n",
    "    bonus=2000\n",
    "    def display(self):\n",
    "        print('Emp class Method')\n",
    "\n",
    "class Manager:\n",
    "    bonus1=50000\n",
    "    def show(self):\n",
    "        print('Manager class Method')\n",
    "\n",
    "e1=Employee()\n",
    "m1=Manager()\n",
    "print(e1.bonus)\n",
    "e1.display()\n",
    "print(m1.bonus1)\n",
    "m1.show()"
   ]
  },
  {
   "cell_type": "code",
   "execution_count": 41,
   "id": "f012cf01-720b-444d-a159-3980e874d073",
   "metadata": {},
   "outputs": [
    {
     "name": "stdout",
     "output_type": "stream",
     "text": [
      "2000\n",
      "Emp class Method\n",
      "2000\n",
      "Emp class Method\n",
      "50000\n",
      "Manager class Method\n"
     ]
    }
   ],
   "source": [
    "class Employee:\n",
    "    bonus=2000\n",
    "    def display(self):\n",
    "        print('Emp class Method')\n",
    "\n",
    "class Manager(Employee):\n",
    "    bonus1=50000\n",
    "    def show(self):\n",
    "        print('Manager class Method')\n",
    "\n",
    "e1=Employee()\n",
    "m1=Manager()\n",
    "print(e1.bonus)\n",
    "e1.display()\n",
    "print(m1.bonus)\n",
    "m1.display()\n",
    "print(m1.bonus1)\n",
    "m1.show()\n"
   ]
  },
  {
   "cell_type": "code",
   "execution_count": 47,
   "id": "baa7e8a3-def7-4c39-bf39-dbce83e21e69",
   "metadata": {},
   "outputs": [
    {
     "name": "stdout",
     "output_type": "stream",
     "text": [
      "Parent constructor called\n",
      "{'vehicle': 'scotter'}\n"
     ]
    }
   ],
   "source": [
    "class Parent:\n",
    "    def __init__(self):\n",
    "        print('Parent constructor called')\n",
    "        self.vehicle='scotter'\n",
    "\n",
    "class Child(Parent):\n",
    "    pass\n",
    "\n",
    "c=Child()\n",
    "print(c.__dict__)"
   ]
  },
  {
   "cell_type": "code",
   "execution_count": 48,
   "id": "31d423e7-d9f3-4285-bf54-d2572f3023b8",
   "metadata": {},
   "outputs": [
    {
     "name": "stdout",
     "output_type": "stream",
     "text": [
      "Child constructor called\n",
      "{'vehicle': 'Bike'}\n"
     ]
    }
   ],
   "source": [
    "class Parent:\n",
    "    def __init__(self):\n",
    "        print('Parent constructor called')\n",
    "        self.vehicle='scotter'\n",
    "\n",
    "class Child(Parent):\n",
    "    def __init__(self):\n",
    "        print('Child constructor called')\n",
    "        self.vehicle='Bike'\n",
    "\n",
    "c=Child()\n",
    "print(c.__dict__)"
   ]
  },
  {
   "cell_type": "code",
   "execution_count": 49,
   "id": "b85f3eae-3bf6-47ac-ac5a-6357acca9d2f",
   "metadata": {},
   "outputs": [
    {
     "name": "stdout",
     "output_type": "stream",
     "text": [
      "Parent constructor called\n",
      "Child constructor called\n",
      "{'ram': '8 gb', 'storage': '512 gb', 'model': 'iphone X'}\n"
     ]
    }
   ],
   "source": [
    "class Computer:\n",
    "    def __init__(self):\n",
    "        self.ram='8 gb'\n",
    "        self.storage='512 gb'\n",
    "        print('Parent constructor called')\n",
    "\n",
    "class Mobile(Computer):\n",
    "    def __init__(self):\n",
    "        super().__init__()\n",
    "        self.model='iphone X'\n",
    "        print('Child constructor called')\n",
    "\n",
    "Apple=Mobile()\n",
    "print(Apple.__dict__)"
   ]
  },
  {
   "cell_type": "code",
   "execution_count": 50,
   "id": "f1bb03d4-c775-4500-8f96-20a6640518cd",
   "metadata": {},
   "outputs": [
    {
     "name": "stdout",
     "output_type": "stream",
     "text": [
      "Parent constructor called\n",
      "Child constructor called\n",
      "{'ram': '8 gb', 'storage': '512 gb', 'model': 'iphone X'}\n"
     ]
    }
   ],
   "source": [
    "class Computer:\n",
    "    def __init__(self):\n",
    "        self.ram='8 gb'\n",
    "        self.storage='512 gb'\n",
    "        print('Parent constructor called')\n",
    "\n",
    "class Mobile(Computer):\n",
    "    def __init__(self):\n",
    "        #Parent constr called\n",
    "        super().__init__()\n",
    "        self.model='iphone X'\n",
    "        print('Child constructor called')\n",
    "\n",
    "Apple=Mobile()\n",
    "print(Apple.__dict__)"
   ]
  },
  {
   "cell_type": "code",
   "execution_count": 52,
   "id": "c80e1bd7-b745-4513-88ac-3e13593d1a2f",
   "metadata": {},
   "outputs": [
    {
     "name": "stdout",
     "output_type": "stream",
     "text": [
      "Parent constructor called\n",
      "Child constructor called\n",
      "{'ram': '8 gb', 'storage': '512 gb', 'model': 'iphone X'}\n"
     ]
    }
   ],
   "source": [
    "class Computer:\n",
    "    def __init__(self, ram, storage):\n",
    "        self.ram=ram\n",
    "        self.storage=storage\n",
    "        print('Parent constructor called')\n",
    "\n",
    "class Mobile(Computer):\n",
    "    def __init__(self):\n",
    "        #parameterised parent constructor\n",
    "        super().__init__('8 gb', '512 gb')\n",
    "        self.model='iphone X'\n",
    "        print('Child constructor called')\n",
    "\n",
    "Apple=Mobile()\n",
    "print(Apple.__dict__)"
   ]
  },
  {
   "cell_type": "code",
   "execution_count": 55,
   "id": "2dac647d-38ad-4cf6-ad2d-f1f87e5ce9fe",
   "metadata": {},
   "outputs": [
    {
     "name": "stdout",
     "output_type": "stream",
     "text": [
      "Parent constructor called\n",
      "Child constructor called\n",
      "{'ram': '8 gb', 'storage': '512 gb', 'model': 'iphone X'}\n"
     ]
    }
   ],
   "source": [
    "class Computer:\n",
    "    def __init__(self, ram, storage):\n",
    "        self.ram=ram\n",
    "        self.storage=storage\n",
    "        print('Parent constructor called')\n",
    "\n",
    "class Mobile(Computer):\n",
    "    def __init__(self, ram , storage):\n",
    "        #parameterised parent constructor\n",
    "        super().__init__(ram,storage)\n",
    "        self.model='iphone X'\n",
    "        print('Child constructor called')\n",
    "\n",
    "Apple=Mobile('8 gb', '512 gb')\n",
    "print(Apple.__dict__)"
   ]
  },
  {
   "cell_type": "code",
   "execution_count": 56,
   "id": "7922481e-db6c-4fce-9213-95194d4fabf3",
   "metadata": {},
   "outputs": [
    {
     "name": "stdout",
     "output_type": "stream",
     "text": [
      "Hello world !\n",
      "Child constructor called\n",
      "{'model': 'iphone X'}\n"
     ]
    }
   ],
   "source": [
    "class Computer:\n",
    "    def __init__(self, ram, storage):\n",
    "        self.ram=ram\n",
    "        self.storage=storage\n",
    "        print('Parent constructor called')\n",
    "    def display(self):\n",
    "        print('Hello world !')\n",
    "\n",
    "class Mobile(Computer):\n",
    "    def __init__(self, ram , storage):\n",
    "        super().display()\n",
    "        self.model='iphone X'\n",
    "        print('Child constructor called')\n",
    "\n",
    "Apple=Mobile('8 gb', '512 gb')\n",
    "print(Apple.__dict__)"
   ]
  },
  {
   "cell_type": "code",
   "execution_count": 57,
   "id": "a7bf18fa-8c37-4fad-98a2-00bb9d8d3307",
   "metadata": {},
   "outputs": [],
   "source": [
    "#Hierarchichal Inheritance"
   ]
  },
  {
   "cell_type": "code",
   "execution_count": 61,
   "id": "ef80d883-1602-4504-9f24-cba7a29d49a6",
   "metadata": {},
   "outputs": [
    {
     "name": "stdout",
     "output_type": "stream",
     "text": [
      "Person display method\n"
     ]
    }
   ],
   "source": [
    "class Person:\n",
    "    def __init__(self,nm,ag):\n",
    "        self.name=nm\n",
    "        self.age=ag\n",
    "\n",
    "    def display(self):\n",
    "        print('Person display method')\n",
    "\n",
    "class Employee(Person):\n",
    "    def __init__(self, nm, ag, sal):\n",
    "        super().__init__(nm,ag)\n",
    "        self.salary=sal\n",
    "    def display1(self):\n",
    "        print('Employee display method')\n",
    "\n",
    "class Student(Person):\n",
    "    def __init__(self,nm,ag,m):\n",
    "        super().__init__(nm,ag)\n",
    "        self.marks=m\n",
    "    def display2(self):\n",
    "        print('Student display method')\n",
    "\n",
    "s1=Student('Jay',21,90)\n",
    "e1=Employee('Raj',23,46000)\n",
    "p1=Person('Abhay',25)\n",
    "\n",
    "s1.display()\n",
    "s1.display1() #attributeError, child2 can't access chld1\n",
    "        \n",
    "        "
   ]
  },
  {
   "cell_type": "code",
   "execution_count": 62,
   "id": "5160dc83-cd6f-4ec0-80a8-1ef69137cd97",
   "metadata": {},
   "outputs": [],
   "source": [
    "#Muliple Inheritance"
   ]
  },
  {
   "cell_type": "code",
   "execution_count": 65,
   "id": "2b4916eb-4fa2-417d-adab-6ce3321d74f4",
   "metadata": {},
   "outputs": [
    {
     "name": "stdout",
     "output_type": "stream",
     "text": [
      "Mumbai\n"
     ]
    }
   ],
   "source": [
    "class Country:\n",
    "    office='Delhi'\n",
    "\n",
    "class State:\n",
    "    office='Mumbai'\n",
    "\n",
    "class District(State,Country):  #in District class, State has precedence over Country\n",
    "    pass\n",
    "\n",
    "d1=District()\n",
    "print(d1.office)"
   ]
  },
  {
   "cell_type": "code",
   "execution_count": 67,
   "id": "900f82b2-5b62-4ea8-be48-0fe9858f4ff1",
   "metadata": {},
   "outputs": [
    {
     "name": "stdout",
     "output_type": "stream",
     "text": [
      "{'office': 'Mumbai'}\n"
     ]
    }
   ],
   "source": [
    "class Country:\n",
    "    def __init__(self):\n",
    "        self.office='Delhi'\n",
    "\n",
    "class State:\n",
    "    def __init__(self):\n",
    "        self.office='Mumbai'\n",
    "\n",
    "class District(State,Country):  #in District class, State has precedence over Country\n",
    "    pass\n",
    "\n",
    "d1=District()\n",
    "print(d1.__dict__)"
   ]
  },
  {
   "cell_type": "code",
   "execution_count": 70,
   "id": "cbb89099-d0e6-4b6f-837c-be4d06810fb9",
   "metadata": {},
   "outputs": [
    {
     "name": "stdout",
     "output_type": "stream",
     "text": [
      "State class constructor\n",
      "District class constructor\n",
      "{'office': 'Pune'}\n"
     ]
    }
   ],
   "source": [
    "class Country:\n",
    "    def __init__(self):\n",
    "        print('Country class constructor')\n",
    "        self.office='Delhi'\n",
    "\n",
    "class State:\n",
    "    def __init__(self):\n",
    "        print('State class constructor')\n",
    "        self.office='Mumbai'\n",
    "\n",
    "class District(State,Country):  #in District class, State has precedence over Country\n",
    "    def __init__(self):\n",
    "        super().__init__()\n",
    "        print('District class constructor')\n",
    "        self.office='Pune'\n",
    "\n",
    "d1=District()\n",
    "print(d1.__dict__)"
   ]
  },
  {
   "cell_type": "code",
   "execution_count": 71,
   "id": "d65f1ce3-f4fc-4f9b-832d-649df300aed5",
   "metadata": {},
   "outputs": [
    {
     "name": "stdout",
     "output_type": "stream",
     "text": [
      "Country class constructor\n",
      "State class constructor\n",
      "District class constructor\n",
      "{'office': 'Pune'}\n"
     ]
    }
   ],
   "source": [
    "class Country:\n",
    "    def __init__(self):\n",
    "        print('Country class constructor')\n",
    "        self.office='Delhi'\n",
    "\n",
    "class State:\n",
    "    def __init__(self):\n",
    "        super().__init__()\n",
    "        print('State class constructor')\n",
    "        self.office='Mumbai'\n",
    "\n",
    "class District(State,Country):  #in District class, State has precedence over Country\n",
    "    def __init__(self):\n",
    "        super().__init__()\n",
    "        print('District class constructor')\n",
    "        self.office='Pune'\n",
    "\n",
    "d1=District()\n",
    "print(d1.__dict__)"
   ]
  },
  {
   "cell_type": "code",
   "execution_count": 72,
   "id": "2fe5e4d8-df4b-4b74-bf7b-c63dbc7808cc",
   "metadata": {},
   "outputs": [],
   "source": [
    "#MRO"
   ]
  },
  {
   "cell_type": "code",
   "execution_count": 85,
   "id": "4819964f-4e70-4967-9899-e16021ba0732",
   "metadata": {},
   "outputs": [
    {
     "name": "stdout",
     "output_type": "stream",
     "text": [
      "[<class '__main__.P'>, <class '__main__.X'>, <class '__main__.A'>, <class '__main__.Y'>, <class '__main__.B'>, <class '__main__.Z'>, <class '__main__.C'>, <class '__main__.D'>, <class 'object'>]\n"
     ]
    }
   ],
   "source": [
    "class A:\n",
    "    pass\n",
    "class B:\n",
    "    pass\n",
    "class C:\n",
    "    pass\n",
    "class D:\n",
    "    pass\n",
    "\n",
    "class X(A,B,C):\n",
    "    pass\n",
    "class Y(B,C):\n",
    "    pass\n",
    "class Z(C,D):\n",
    "    pass\n",
    "class P(X,Y,Z):\n",
    "    pass\n",
    "class Q(Y,Z):\n",
    "    pass\n",
    "\n",
    "print(P.mro())"
   ]
  },
  {
   "cell_type": "code",
   "execution_count": 86,
   "id": "b911f23e-09ff-4393-9894-3a73ee768cf1",
   "metadata": {},
   "outputs": [],
   "source": [
    "#Encapsulation"
   ]
  },
  {
   "cell_type": "code",
   "execution_count": 90,
   "id": "ac619bf2-aff2-462a-8820-9332b420c9e9",
   "metadata": {},
   "outputs": [
    {
     "name": "stdout",
     "output_type": "stream",
     "text": [
      "{'revenue': 10000, 'sales': 114}\n",
      "{'revenue': 1, 'sales': 114}\n"
     ]
    }
   ],
   "source": [
    "class Finance:\n",
    "    def __init__(self):\n",
    "        #public attrs\n",
    "        self.revenue=10000\n",
    "        self.sales=114\n",
    "\n",
    "f1=Finance()\n",
    "print(f1.__dict__)\n",
    "\n",
    "class HR:\n",
    "    def __init__(self):\n",
    "        f1.revenue=1\n",
    "\n",
    "h1=HR()\n",
    "print(f1.__dict__)"
   ]
  },
  {
   "cell_type": "code",
   "execution_count": 8,
   "id": "3edf4023-58e2-43db-a6bd-fc0955b4dc27",
   "metadata": {},
   "outputs": [
    {
     "name": "stdout",
     "output_type": "stream",
     "text": [
      "{'_Finance__revenue': 10000, '_Finance__sales': 114}\n",
      "{'_Finance__revenue': 10000, '_Finance__sales': 114, '_HR__revenue': 1}\n"
     ]
    }
   ],
   "source": [
    "class Finance:\n",
    "    def __init__(self):\n",
    "        #private data\n",
    "        self.__revenue=10000\n",
    "        self.__sales=114\n",
    "\n",
    "f1=Finance()\n",
    "print(f1.__dict__)\n",
    "\n",
    "class HR:\n",
    "    def __init__(self):\n",
    "        #assign another attr _HR__revenue to f1 object\n",
    "        f1.__revenue=1\n",
    "\n",
    "h1=HR()\n",
    "print(f1.__dict__)"
   ]
  },
  {
   "cell_type": "code",
   "execution_count": 10,
   "id": "993adb0a-c8dc-4b06-ba5a-300836f3a82f",
   "metadata": {},
   "outputs": [
    {
     "name": "stdout",
     "output_type": "stream",
     "text": [
      "{'_Finance__revenue': 10000, '_Finance__sales': 114}\n"
     ]
    },
    {
     "ename": "AttributeError",
     "evalue": "'Finance' object has no attribute '_HR__revenue'",
     "output_type": "error",
     "traceback": [
      "\u001b[1;31m---------------------------------------------------------------------------\u001b[0m",
      "\u001b[1;31mAttributeError\u001b[0m                            Traceback (most recent call last)",
      "Cell \u001b[1;32mIn[10], line 14\u001b[0m\n\u001b[0;32m     10\u001b[0m     \u001b[38;5;28;01mdef\u001b[39;00m\u001b[38;5;250m \u001b[39m\u001b[38;5;21m__init__\u001b[39m(\u001b[38;5;28mself\u001b[39m):\n\u001b[0;32m     11\u001b[0m         \u001b[38;5;66;03m#revenue not accessible here\u001b[39;00m\n\u001b[0;32m     12\u001b[0m         \u001b[38;5;28mprint\u001b[39m(f1\u001b[38;5;241m.\u001b[39m__revenue)\n\u001b[1;32m---> 14\u001b[0m h1\u001b[38;5;241m=\u001b[39m\u001b[43mHR\u001b[49m\u001b[43m(\u001b[49m\u001b[43m)\u001b[49m\n\u001b[0;32m     15\u001b[0m \u001b[38;5;28mprint\u001b[39m(f1\u001b[38;5;241m.\u001b[39m\u001b[38;5;18m__dict__\u001b[39m)\n",
      "Cell \u001b[1;32mIn[10], line 12\u001b[0m, in \u001b[0;36mHR.__init__\u001b[1;34m(self)\u001b[0m\n\u001b[0;32m     10\u001b[0m \u001b[38;5;28;01mdef\u001b[39;00m\u001b[38;5;250m \u001b[39m\u001b[38;5;21m__init__\u001b[39m(\u001b[38;5;28mself\u001b[39m):\n\u001b[0;32m     11\u001b[0m     \u001b[38;5;66;03m#revenue not accessible here\u001b[39;00m\n\u001b[1;32m---> 12\u001b[0m     \u001b[38;5;28mprint\u001b[39m(\u001b[43mf1\u001b[49m\u001b[38;5;241;43m.\u001b[39;49m\u001b[43m__revenue\u001b[49m)\n",
      "\u001b[1;31mAttributeError\u001b[0m: 'Finance' object has no attribute '_HR__revenue'"
     ]
    }
   ],
   "source": [
    "class Finance:\n",
    "    def __init__(self):\n",
    "        #private data\n",
    "        self.__revenue=10000\n",
    "        self.__sales=114\n",
    "\n",
    "f1=Finance()\n",
    "print(f1.__dict__)\n",
    "\n",
    "class HR:\n",
    "    def __init__(self):\n",
    "        #revenue not accessible here\n",
    "        print(f1.__revenue)\n",
    "\n",
    "h1=HR()\n",
    "print(f1.__dict__)"
   ]
  },
  {
   "cell_type": "code",
   "execution_count": 13,
   "id": "fa1d4d70-8ba9-4ae9-8f68-b592e9fffa3b",
   "metadata": {},
   "outputs": [
    {
     "name": "stdout",
     "output_type": "stream",
     "text": [
      "10000 114\n",
      "{'_Finance__revenue': 10000, '_Finance__sales': 114}\n"
     ]
    }
   ],
   "source": [
    "class Finance:\n",
    "    def __init__(self):\n",
    "        self.__revenue=10000\n",
    "        self.__sales=114\n",
    "\n",
    "    def display(self):\n",
    "        print(self.__revenue, self.__sales)\n",
    "\n",
    "f1=Finance()\n",
    "f1.display()\n",
    "print(f1.__dict__)"
   ]
  },
  {
   "cell_type": "code",
   "execution_count": 19,
   "id": "57d760ba-7c85-4393-b94d-2101e1ef0c5a",
   "metadata": {},
   "outputs": [
    {
     "name": "stdout",
     "output_type": "stream",
     "text": [
      "SPEED : 100\n",
      "Gears: 6\n",
      "SPEED : 120\n",
      "Gears: 8\n"
     ]
    }
   ],
   "source": [
    "class Vehicle:\n",
    "    def __init__(self, name, price):\n",
    "        self.name=name\n",
    "        self.price=price\n",
    "    def max_speed(self):\n",
    "        print('SPEED : 100')\n",
    "    def max_gear(self):\n",
    "        print('Gears: 6')\n",
    "\n",
    "class Car(Vehicle):\n",
    "    def __init__(self, name, price):\n",
    "        self.name=name\n",
    "        self.price=price\n",
    "    def max_speed(self):\n",
    "        print('SPEED : 120')\n",
    "    def max_gear(self):\n",
    "        print('Gears: 8')\n",
    "\n",
    "v1=Vehicle('Truck',2000000)\n",
    "c1=Car('Boleno',150000)\n",
    "v1.max_speed()\n",
    "v1.max_gear()\n",
    "c1.max_speed()\n",
    "c1.max_gear()"
   ]
  },
  {
   "cell_type": "code",
   "execution_count": null,
   "id": "33d5ff64-f97e-4fd8-b4df-ebe11ef48c3c",
   "metadata": {},
   "outputs": [],
   "source": [
    "#Modify built in functions"
   ]
  },
  {
   "cell_type": "code",
   "execution_count": 20,
   "id": "f0e7b6a9-269c-48c1-8630-bee563c108cc",
   "metadata": {},
   "outputs": [
    {
     "name": "stdout",
     "output_type": "stream",
     "text": [
      "<__main__.Cart object at 0x000001C1E84A6BD0>\n"
     ]
    }
   ],
   "source": [
    "class Cart:\n",
    "    pass\n",
    "\n",
    "c1=Cart()\n",
    "print(c1)"
   ]
  },
  {
   "cell_type": "code",
   "execution_count": 21,
   "id": "02c28d4d-4222-4b0d-b31c-495cf2710209",
   "metadata": {},
   "outputs": [
    {
     "name": "stdout",
     "output_type": "stream",
     "text": [
      "This is a Cart class object\n"
     ]
    }
   ],
   "source": [
    "class Cart:\n",
    "    def __str__(self):\n",
    "        return \"This is a Cart class object\"\n",
    "\n",
    "c2=Cart()\n",
    "print(c2)"
   ]
  },
  {
   "cell_type": "code",
   "execution_count": 22,
   "id": "3f8b11d2-267b-4559-aaf6-f21096c806ec",
   "metadata": {},
   "outputs": [
    {
     "ename": "TypeError",
     "evalue": "object of type 'Cart' has no len()",
     "output_type": "error",
     "traceback": [
      "\u001b[1;31m---------------------------------------------------------------------------\u001b[0m",
      "\u001b[1;31mTypeError\u001b[0m                                 Traceback (most recent call last)",
      "Cell \u001b[1;32mIn[22], line 8\u001b[0m\n\u001b[0;32m      5\u001b[0m         \u001b[38;5;28mself\u001b[39m\u001b[38;5;241m.\u001b[39mothers\u001b[38;5;241m=\u001b[39mbasket3\n\u001b[0;32m      7\u001b[0m cart1\u001b[38;5;241m=\u001b[39mCart([\u001b[38;5;124m'\u001b[39m\u001b[38;5;124mshirt\u001b[39m\u001b[38;5;124m'\u001b[39m,\u001b[38;5;124m'\u001b[39m\u001b[38;5;124mpant\u001b[39m\u001b[38;5;124m'\u001b[39m],[\u001b[38;5;124m'\u001b[39m\u001b[38;5;124mmouse\u001b[39m\u001b[38;5;124m'\u001b[39m,\u001b[38;5;124m'\u001b[39m\u001b[38;5;124mkeyboard\u001b[39m\u001b[38;5;124m'\u001b[39m],[\u001b[38;5;124m'\u001b[39m\u001b[38;5;124mkeys\u001b[39m\u001b[38;5;124m'\u001b[39m,\u001b[38;5;124m'\u001b[39m\u001b[38;5;124mbike\u001b[39m\u001b[38;5;124m'\u001b[39m,\u001b[38;5;124m'\u001b[39m\u001b[38;5;124mpen\u001b[39m\u001b[38;5;124m'\u001b[39m])\n\u001b[1;32m----> 8\u001b[0m \u001b[38;5;28mprint\u001b[39m(\u001b[38;5;28;43mlen\u001b[39;49m\u001b[43m(\u001b[49m\u001b[43mcart1\u001b[49m\u001b[43m)\u001b[49m)\n",
      "\u001b[1;31mTypeError\u001b[0m: object of type 'Cart' has no len()"
     ]
    }
   ],
   "source": [
    "class Cart:\n",
    "    def __init__(self, basket1,basket2,basket3):\n",
    "        self.clothes=basket1\n",
    "        self.electronics=basket2\n",
    "        self.others=basket3\n",
    "\n",
    "cart1=Cart(['shirt','pant'],['mouse','keyboard'],['keys','bike','pen'])\n",
    "print(len(cart1))"
   ]
  },
  {
   "cell_type": "code",
   "execution_count": 23,
   "id": "784d6ec8-ee2e-4794-9ff6-1bc1398d9fc3",
   "metadata": {},
   "outputs": [
    {
     "name": "stdout",
     "output_type": "stream",
     "text": [
      "7\n"
     ]
    }
   ],
   "source": [
    "class Cart:\n",
    "    def __init__(self, basket1,basket2,basket3):\n",
    "        self.clothes=basket1\n",
    "        self.electronics=basket2\n",
    "        self.others=basket3\n",
    "    def __len__(self):\n",
    "        return len(self.clothes)+len(self.electronics)+len(self.others)\n",
    "\n",
    "cart1=Cart(['shirt','pant'],['mouse','keyboard'],['keys','bike','pen'])\n",
    "print(len(cart1))"
   ]
  },
  {
   "cell_type": "code",
   "execution_count": 25,
   "id": "0470f29d-3639-44a9-b9b1-49130306b0e8",
   "metadata": {},
   "outputs": [],
   "source": [
    "#Polymorphism in functions and objects"
   ]
  },
  {
   "cell_type": "code",
   "execution_count": 24,
   "id": "c6a3bb6f-4c63-426b-90df-eea1202d82a5",
   "metadata": {},
   "outputs": [
    {
     "name": "stdout",
     "output_type": "stream",
     "text": [
      "Diesel\n",
      "Speed : 200\n",
      "*********************\n",
      "Petrol\n",
      "Speed : 180\n"
     ]
    }
   ],
   "source": [
    "class BMW:\n",
    "    def fuel_type(self):\n",
    "        print('Diesel')\n",
    "\n",
    "    def max_speed(self):\n",
    "        print('Speed : 200')\n",
    "\n",
    "class Ferrari:\n",
    "    def fuel_type(self):\n",
    "        print('Petrol')\n",
    "\n",
    "    def max_speed(self):\n",
    "        print('Speed : 180')\n",
    "\n",
    "def car_details(obj):\n",
    "    obj.fuel_type()\n",
    "    obj.max_speed()\n",
    "\n",
    "bmw=BMW()\n",
    "ferrari=Ferrari()\n",
    "car_details(bmw)\n",
    "print(\"*********************\")\n",
    "car_details(ferrari)"
   ]
  },
  {
   "cell_type": "code",
   "execution_count": 26,
   "id": "609f3639-cb37-4623-b2c9-449c98a2d0b1",
   "metadata": {},
   "outputs": [],
   "source": [
    "#Operator overloading (+,>)"
   ]
  },
  {
   "cell_type": "code",
   "execution_count": 29,
   "id": "8f59b144-3eee-47c2-ab5f-094ce9992b62",
   "metadata": {},
   "outputs": [
    {
     "data": {
      "text/plain": [
       "8"
      ]
     },
     "execution_count": 29,
     "metadata": {},
     "output_type": "execute_result"
    }
   ],
   "source": [
    "num1=3\n",
    "num2=5\n",
    "num1+num2\n",
    "num1.__add__(num2)\n",
    "int.__add__(num1,num2)"
   ]
  },
  {
   "cell_type": "code",
   "execution_count": 1,
   "id": "e18014d2-0554-4c8a-8595-3cc1d283ab26",
   "metadata": {},
   "outputs": [
    {
     "name": "stdout",
     "output_type": "stream",
     "text": [
      "500\n"
     ]
    }
   ],
   "source": [
    "class Book:\n",
    "    def __init__(self,title,pages):\n",
    "        self.title=title\n",
    "        self.pages=pages\n",
    "\n",
    "b1=Book('one Indian girl',200)\n",
    "b2=Book('The diary of a young girl',300)\n",
    "print(b1.pages+b2.pages)"
   ]
  },
  {
   "cell_type": "code",
   "execution_count": 2,
   "id": "fbed891c-3bba-4537-801f-6c445c98fa03",
   "metadata": {},
   "outputs": [
    {
     "ename": "TypeError",
     "evalue": "unsupported operand type(s) for +: 'Book' and 'Book'",
     "output_type": "error",
     "traceback": [
      "\u001b[1;31m---------------------------------------------------------------------------\u001b[0m",
      "\u001b[1;31mTypeError\u001b[0m                                 Traceback (most recent call last)",
      "Cell \u001b[1;32mIn[2], line 1\u001b[0m\n\u001b[1;32m----> 1\u001b[0m \u001b[38;5;28mprint\u001b[39m(\u001b[43mb1\u001b[49m\u001b[38;5;241;43m+\u001b[39;49m\u001b[43mb2\u001b[49m) \u001b[38;5;66;03m#No + or __add__ method defined for Book class/Type operands\u001b[39;00m\n",
      "\u001b[1;31mTypeError\u001b[0m: unsupported operand type(s) for +: 'Book' and 'Book'"
     ]
    }
   ],
   "source": [
    "print(b1+b2) #No + or __add__ method defined for Book class/Type operands"
   ]
  },
  {
   "cell_type": "code",
   "execution_count": 6,
   "id": "54ce0414-750d-4101-8a15-687b209b7dbd",
   "metadata": {},
   "outputs": [
    {
     "name": "stdout",
     "output_type": "stream",
     "text": [
      "500\n"
     ]
    }
   ],
   "source": [
    "class Book:\n",
    "    def __init__(self,title,pages):\n",
    "        self.title=title\n",
    "        self.pages=pages\n",
    "\n",
    "    def __add__(self,other):\n",
    "        return self.pages+other.pages\n",
    "\n",
    "b1=Book('one Indian girl',200)\n",
    "b2=Book('The diary of a young girl',300)\n",
    "# b3=Book('The hound of Basker Villa',700)\n",
    "print(b1+b2)"
   ]
  },
  {
   "cell_type": "code",
   "execution_count": 7,
   "id": "aa43fc51-f026-4f1c-89e8-febf8f72c099",
   "metadata": {},
   "outputs": [
    {
     "ename": "TypeError",
     "evalue": "'>' not supported between instances of 'Hotel' and 'Hotel'",
     "output_type": "error",
     "traceback": [
      "\u001b[1;31m---------------------------------------------------------------------------\u001b[0m",
      "\u001b[1;31mTypeError\u001b[0m                                 Traceback (most recent call last)",
      "Cell \u001b[1;32mIn[7], line 8\u001b[0m\n\u001b[0;32m      6\u001b[0m h1\u001b[38;5;241m=\u001b[39mHotel(\u001b[38;5;124m'\u001b[39m\u001b[38;5;124mTaj\u001b[39m\u001b[38;5;124m'\u001b[39m,\u001b[38;5;241m20000\u001b[39m)\n\u001b[0;32m      7\u001b[0m h2\u001b[38;5;241m=\u001b[39mHotel(\u001b[38;5;124m'\u001b[39m\u001b[38;5;124mIbis\u001b[39m\u001b[38;5;124m'\u001b[39m,\u001b[38;5;241m8000\u001b[39m)\n\u001b[1;32m----> 8\u001b[0m \u001b[38;5;28mprint\u001b[39m(\u001b[43mh1\u001b[49m\u001b[38;5;241;43m>\u001b[39;49m\u001b[43mh2\u001b[49m)\n",
      "\u001b[1;31mTypeError\u001b[0m: '>' not supported between instances of 'Hotel' and 'Hotel'"
     ]
    }
   ],
   "source": [
    "class Hotel:\n",
    "    def __init__(self,name,price):\n",
    "        self.name=name\n",
    "        self.price=price\n",
    "\n",
    "h1=Hotel('Taj',20000)\n",
    "h2=Hotel('Ibis',8000)\n",
    "print(h1>h2)"
   ]
  },
  {
   "cell_type": "code",
   "execution_count": 9,
   "id": "d742203d-0d40-42fd-bd30-6520d44f03f1",
   "metadata": {},
   "outputs": [
    {
     "name": "stdout",
     "output_type": "stream",
     "text": [
      "True\n"
     ]
    }
   ],
   "source": [
    "class Hotel:\n",
    "    def __init__(self,name,price):\n",
    "        self.name=name\n",
    "        self.price=price\n",
    "    def __gt__(self,other):  #(h1,h2)\n",
    "        if self.price>other.price:\n",
    "            return True\n",
    "        else:\n",
    "            return False\n",
    "\n",
    "h1=Hotel('Taj',20000)\n",
    "h2=Hotel('Ibis',8000)\n",
    "print(h1>h2)"
   ]
  },
  {
   "cell_type": "code",
   "execution_count": 10,
   "id": "08b6995d-2b14-47bc-8d53-2fcc7ec06e74",
   "metadata": {},
   "outputs": [],
   "source": [
    "#Method overloading (same class two or more same name methods)"
   ]
  },
  {
   "cell_type": "code",
   "execution_count": 12,
   "id": "2380f3e5-29a5-49c2-b89d-792a0a6497c9",
   "metadata": {},
   "outputs": [
    {
     "ename": "TypeError",
     "evalue": "Addition.add() missing 1 required positional argument: 'num3'",
     "output_type": "error",
     "traceback": [
      "\u001b[1;31m---------------------------------------------------------------------------\u001b[0m",
      "\u001b[1;31mTypeError\u001b[0m                                 Traceback (most recent call last)",
      "Cell \u001b[1;32mIn[12], line 8\u001b[0m\n\u001b[0;32m      5\u001b[0m         \u001b[38;5;28mprint\u001b[39m(num1\u001b[38;5;241m+\u001b[39mnum2\u001b[38;5;241m+\u001b[39mnum3)\n\u001b[0;32m      7\u001b[0m a\u001b[38;5;241m=\u001b[39mAddition()\n\u001b[1;32m----> 8\u001b[0m \u001b[43ma\u001b[49m\u001b[38;5;241;43m.\u001b[39;49m\u001b[43madd\u001b[49m\u001b[43m(\u001b[49m\u001b[38;5;241;43m1\u001b[39;49m\u001b[43m,\u001b[49m\u001b[38;5;241;43m2\u001b[39;49m\u001b[43m)\u001b[49m\n",
      "\u001b[1;31mTypeError\u001b[0m: Addition.add() missing 1 required positional argument: 'num3'"
     ]
    }
   ],
   "source": [
    "class Addition:\n",
    "    def add(self,num1,num2):\n",
    "        print(num1+num2)\n",
    "    def add(self,num1,num2,num3):\n",
    "        print(num1+num2+num3)\n",
    "\n",
    "a=Addition()\n",
    "a.add(1,2)"
   ]
  },
  {
   "cell_type": "code",
   "execution_count": 16,
   "id": "8327133e-5301-4303-9ec6-9874d19b67b2",
   "metadata": {},
   "outputs": [
    {
     "name": "stdout",
     "output_type": "stream",
     "text": [
      "3\n",
      "6\n"
     ]
    }
   ],
   "source": [
    "class Addition:\n",
    "\n",
    "    #Method overloading optonal parameters in same method\n",
    "    def add(self,num1=None,num2=None,num3=None):\n",
    "        if num1!=None and num2!=None and num3!=None:\n",
    "            print(num1+num2+num3)\n",
    "        elif num1!=None and num2!=None:\n",
    "            print(num1+num2)\n",
    "        else:\n",
    "            print('Incorrect num of parameters provided')\n",
    "a=Addition()\n",
    "a.add(1,2)\n",
    "a.add(1,2,3)"
   ]
  },
  {
   "cell_type": "code",
   "execution_count": 17,
   "id": "7b371980-8b59-4cfb-a33f-1cf8e3f1332f",
   "metadata": {},
   "outputs": [],
   "source": [
    "#Nested class"
   ]
  },
  {
   "cell_type": "code",
   "execution_count": 24,
   "id": "1e24c7db-987b-4935-9063-958431feb6ed",
   "metadata": {},
   "outputs": [
    {
     "name": "stdout",
     "output_type": "stream",
     "text": [
      "Outer class constructor\n",
      "Inner class constructor\n",
      "Display method\n",
      "Show method\n"
     ]
    },
    {
     "ename": "AttributeError",
     "evalue": "'Inner' object has no attribute 'display'",
     "output_type": "error",
     "traceback": [
      "\u001b[1;31m---------------------------------------------------------------------------\u001b[0m",
      "\u001b[1;31mAttributeError\u001b[0m                            Traceback (most recent call last)",
      "Cell \u001b[1;32mIn[24], line 18\u001b[0m\n\u001b[0;32m     16\u001b[0m obj\u001b[38;5;241m.\u001b[39mdisplay()\n\u001b[0;32m     17\u001b[0m in1\u001b[38;5;241m.\u001b[39mshow()\n\u001b[1;32m---> 18\u001b[0m \u001b[43min1\u001b[49m\u001b[38;5;241;43m.\u001b[39;49m\u001b[43mdisplay\u001b[49m()\n",
      "\u001b[1;31mAttributeError\u001b[0m: 'Inner' object has no attribute 'display'"
     ]
    }
   ],
   "source": [
    "class Outer:\n",
    "    def __init__(self):\n",
    "        print('Outer class constructor')\n",
    "\n",
    "    def display(self):\n",
    "        print('Display method')\n",
    "\n",
    "    class Inner:\n",
    "        def __init__(self):\n",
    "            print('Inner class constructor')\n",
    "        def show(self):\n",
    "            print('Show method')\n",
    "\n",
    "obj=Outer()\n",
    "in1=obj.Inner()\n",
    "obj.display()\n",
    "in1.show()\n",
    "in1.display()"
   ]
  },
  {
   "cell_type": "code",
   "execution_count": 31,
   "id": "111955c2-1754-4d6d-8084-050a3a0bf295",
   "metadata": {},
   "outputs": [
    {
     "name": "stdout",
     "output_type": "stream",
     "text": [
      "Raj has 186\n",
      "DOB : 21/8/1998\n"
     ]
    }
   ],
   "source": [
    "class Student:\n",
    "    def __init__(self,name,roll,dd,mm,yy):\n",
    "        self.name=name\n",
    "        self.roll=roll\n",
    "        self.dob=self.DOB(dd,mm,yy)\n",
    "\n",
    "    def display(self):\n",
    "        print(f'{self.name} has {self.roll}')\n",
    "        self.dob.display()\n",
    "        \n",
    "    class DOB:\n",
    "        def __init__(self,dd,mm,yy):\n",
    "            self.date=dd\n",
    "            self.month=mm\n",
    "            self.year=yy\n",
    "        def display(self):\n",
    "            print(f'DOB : {self.date}/{self.month}/{self.year}')\n",
    "\n",
    "s1=Student('Raj',186,21,8,1998)\n",
    "s1.display()"
   ]
  },
  {
   "cell_type": "code",
   "execution_count": 32,
   "id": "ab0b7318-6469-4ff1-bfbe-1820a867d9c1",
   "metadata": {},
   "outputs": [],
   "source": [
    "#Accessing members of one class inside another class"
   ]
  },
  {
   "cell_type": "code",
   "execution_count": 34,
   "id": "cd708df9-ea12-4684-957b-6ccae56f66f6",
   "metadata": {},
   "outputs": [
    {
     "name": "stdout",
     "output_type": "stream",
     "text": [
      "Name : Raj, Salary : 25000\n",
      "Name : Raj, Salary : 27000\n"
     ]
    }
   ],
   "source": [
    "class Employee:\n",
    "    def __init__(self, name,salary):\n",
    "        self.salary=salary\n",
    "        self.name=name\n",
    "    def display(self):\n",
    "        print(f'Name : {self.name}, Salary : {self.salary}')\n",
    "\n",
    "class Changes:\n",
    "    @staticmethod\n",
    "    def increment(obj):\n",
    "        obj.salary+=2000\n",
    "        obj.display()\n",
    "\n",
    "e1=Employee('Raj',25000)\n",
    "e1.display()\n",
    "Changes.increment(e1)"
   ]
  },
  {
   "cell_type": "code",
   "execution_count": 35,
   "id": "40edaad8-77bb-4c5f-9d2c-20f525966fcf",
   "metadata": {},
   "outputs": [],
   "source": [
    "#Destrutor"
   ]
  },
  {
   "cell_type": "code",
   "execution_count": 49,
   "id": "acd35b9c-3ee3-4312-8c2d-570760de21cb",
   "metadata": {},
   "outputs": [
    {
     "name": "stdout",
     "output_type": "stream",
     "text": [
      "Destructor called...\n",
      "After del e1, but before sleep\n"
     ]
    }
   ],
   "source": [
    "#This program is giving wrong result here, run in VS code to see proper behaviour\n",
    "\n",
    "import time\n",
    "class Employee:\n",
    "    def __init__(self, name, salary):\n",
    "        self.name=name\n",
    "        self.salary=salary\n",
    "    def display(self):\n",
    "        print(self.name,self.salary)\n",
    "\n",
    "    #defining destructor\n",
    "    def __del__(self):\n",
    "        print('Destructor called...')\n",
    "\n",
    "\n",
    "e1=Employee('Raj',36000)\n",
    "e2=e1\n",
    "\n",
    "del e1\n",
    "\n",
    "print(\"After del e1, but before sleep\")\n",
    "\n",
    "time.sleep(15)"
   ]
  },
  {
   "cell_type": "code",
   "execution_count": 50,
   "id": "ec2c6e12-220f-48a5-96be-8fbe3a723723",
   "metadata": {},
   "outputs": [],
   "source": [
    "#storing objects in list"
   ]
  },
  {
   "cell_type": "code",
   "execution_count": 53,
   "id": "a1f6531c-de70-4363-af4d-d286eaeec5ba",
   "metadata": {},
   "outputs": [
    {
     "name": "stdin",
     "output_type": "stream",
     "text": [
      "Enter movie name :  The Ring\n",
      "Enter duration 130\n",
      "Do you want to add more ? (y/n) y\n",
      "Enter movie name :  Grudge\n",
      "Enter duration 360\n",
      "Do you want to add more ? (y/n) n\n"
     ]
    },
    {
     "name": "stdout",
     "output_type": "stream",
     "text": [
      "***************\n",
      "The Ring 130\n",
      "***************\n",
      "Grudge 360\n"
     ]
    }
   ],
   "source": [
    "class Movies:\n",
    "    def __init__(self, title, duration):\n",
    "        self.title=title\n",
    "        self.duration=duration\n",
    "    def printer(self):\n",
    "        print('***************')\n",
    "        print(self.title,self.duration)\n",
    "\n",
    "list_objects=[]\n",
    "while True:\n",
    "    title=input('Enter movie name : ')\n",
    "    duration=int(input('Enter duration'))\n",
    "    obj=Movies(title,duration)\n",
    "    list_objects.append(obj)\n",
    "    ans=input('Do you want to add more ? (y/n)')\n",
    "    if ans=='n':\n",
    "        break\n",
    "for obj in list_objects:\n",
    "    obj.printer()"
   ]
  },
  {
   "cell_type": "code",
   "execution_count": 54,
   "id": "2cdc5355-5ba5-473d-a70b-1e792c2b7a5f",
   "metadata": {},
   "outputs": [],
   "source": [
    "#class Decorator"
   ]
  },
  {
   "cell_type": "code",
   "execution_count": 55,
   "id": "e19aed4a-3629-4ddd-9941-9996644b9c91",
   "metadata": {},
   "outputs": [
    {
     "name": "stdout",
     "output_type": "stream",
     "text": [
      "5\n"
     ]
    }
   ],
   "source": [
    "def add(a,b):\n",
    "    return a+b\n",
    "print(add(2,3))"
   ]
  },
  {
   "cell_type": "code",
   "execution_count": 56,
   "id": "158be3ec-5be5-44ed-bf43-ddea0bbab5f1",
   "metadata": {},
   "outputs": [],
   "source": [
    "#To modify behaviour of this add() to return square of the sum of its parameters a,b"
   ]
  },
  {
   "cell_type": "code",
   "execution_count": 58,
   "id": "01f95402-a6d5-4500-b961-0a1e3bbf86da",
   "metadata": {},
   "outputs": [
    {
     "name": "stdout",
     "output_type": "stream",
     "text": [
      "25\n"
     ]
    }
   ],
   "source": [
    "class Decorator:\n",
    "    def __init__(self,func):\n",
    "        self.function=func\n",
    "    def __call__(self,a,b):\n",
    "        res=self.function(a,b)\n",
    "        return res**2\n",
    "\n",
    "def add(a,b):\n",
    "    return a+b\n",
    "\n",
    "add=Decorator(add)\n",
    "print(add(2,3))"
   ]
  },
  {
   "cell_type": "code",
   "execution_count": 59,
   "id": "f7b313a6-f8be-4a3a-b500-db1a62918ecb",
   "metadata": {},
   "outputs": [
    {
     "name": "stdout",
     "output_type": "stream",
     "text": [
      "25\n"
     ]
    }
   ],
   "source": [
    "class Decorator:\n",
    "    def __init__(self,func):\n",
    "        self.function=func\n",
    "    def __call__(self,a,b):\n",
    "        res=self.function(a,b)\n",
    "        return res**2\n",
    "        \n",
    "@Decorator\n",
    "def add(a,b):\n",
    "    return a+b\n",
    "\n",
    "# add=Decorator(add)\n",
    "print(add(2,3))"
   ]
  },
  {
   "cell_type": "code",
   "execution_count": 60,
   "id": "65b7d620-98db-4c11-8ac0-566f89d30291",
   "metadata": {},
   "outputs": [],
   "source": [
    "#takes variable arguments and returns sum\n",
    "def add(*args):\n",
    "    res=0\n",
    "    for num in args:\n",
    "        res+=num\n",
    "    return res"
   ]
  },
  {
   "cell_type": "code",
   "execution_count": 63,
   "id": "d1f312d0-7081-4716-af77-a9e1e4cdbbd0",
   "metadata": {},
   "outputs": [
    {
     "data": {
      "text/plain": [
       "60"
      ]
     },
     "execution_count": 63,
     "metadata": {},
     "output_type": "execute_result"
    }
   ],
   "source": [
    "add(10,20,30)"
   ]
  },
  {
   "cell_type": "code",
   "execution_count": 64,
   "id": "8e8a1b3b-4c55-45ba-9573-7f5b03eb7167",
   "metadata": {},
   "outputs": [
    {
     "ename": "TypeError",
     "evalue": "unsupported operand type(s) for +=: 'int' and 'str'",
     "output_type": "error",
     "traceback": [
      "\u001b[1;31m---------------------------------------------------------------------------\u001b[0m",
      "\u001b[1;31mTypeError\u001b[0m                                 Traceback (most recent call last)",
      "Cell \u001b[1;32mIn[64], line 1\u001b[0m\n\u001b[1;32m----> 1\u001b[0m \u001b[43madd\u001b[49m\u001b[43m(\u001b[49m\u001b[38;5;241;43m10\u001b[39;49m\u001b[43m,\u001b[49m\u001b[38;5;124;43m'\u001b[39;49m\u001b[38;5;124;43m20\u001b[39;49m\u001b[38;5;124;43m'\u001b[39;49m\u001b[43m,\u001b[49m\u001b[38;5;241;43m30\u001b[39;49m\u001b[43m)\u001b[49m\n",
      "Cell \u001b[1;32mIn[60], line 5\u001b[0m, in \u001b[0;36madd\u001b[1;34m(*args)\u001b[0m\n\u001b[0;32m      3\u001b[0m res\u001b[38;5;241m=\u001b[39m\u001b[38;5;241m0\u001b[39m\n\u001b[0;32m      4\u001b[0m \u001b[38;5;28;01mfor\u001b[39;00m num \u001b[38;5;129;01min\u001b[39;00m args:\n\u001b[1;32m----> 5\u001b[0m     \u001b[43mres\u001b[49m\u001b[38;5;241;43m+\u001b[39;49m\u001b[38;5;241;43m=\u001b[39;49m\u001b[43mnum\u001b[49m\n\u001b[0;32m      6\u001b[0m \u001b[38;5;28;01mreturn\u001b[39;00m res\n",
      "\u001b[1;31mTypeError\u001b[0m: unsupported operand type(s) for +=: 'int' and 'str'"
     ]
    }
   ],
   "source": [
    "add(10,'20',30)"
   ]
  },
  {
   "cell_type": "code",
   "execution_count": 65,
   "id": "541f4f38-67cf-418f-a6da-a3d82dea0cbb",
   "metadata": {},
   "outputs": [],
   "source": [
    "#write a class decorator to return sum from this original add() fn (without modifying it) when all the arguments are int only"
   ]
  },
  {
   "cell_type": "code",
   "execution_count": 81,
   "id": "288d8a0a-67b5-4fa1-8f22-c70db34ea372",
   "metadata": {},
   "outputs": [
    {
     "name": "stdout",
     "output_type": "stream",
     "text": [
      "str types not allowed\n",
      "None\n"
     ]
    }
   ],
   "source": [
    "class Decorator:\n",
    "    def __init__(self,func):\n",
    "        self.function=func\n",
    "    def __call__(self,*args):\n",
    "        try:\n",
    "            if any([isinstance(i,str) for i in args]):\n",
    "                raise TypeError('str types not allowed')\n",
    "            else:\n",
    "                return self.function(*args)\n",
    "        except Exception as e:\n",
    "            print(e)\n",
    "#takes variable arguments and returns sum\n",
    "#@Decorator\n",
    "def add(*args):\n",
    "    res=0\n",
    "    for num in args:\n",
    "        res+=num\n",
    "    return res\n",
    "\n",
    "add=Decorator(add)\n",
    "# print(add(10,20,30))\n",
    "print(add(10,'20',30))       #add.__call__(a,b,c)"
   ]
  },
  {
   "cell_type": "code",
   "execution_count": 82,
   "id": "840bd9f2-fba8-4c16-a1b8-eb8016e69a78",
   "metadata": {},
   "outputs": [],
   "source": [
    "#@property decorator"
   ]
  },
  {
   "cell_type": "code",
   "execution_count": 92,
   "id": "181bfe38-8b2f-453d-aa10-fe09da6c04ad",
   "metadata": {},
   "outputs": [
    {
     "name": "stdout",
     "output_type": "stream",
     "text": [
      "{'name': 'Abhay', 'mail': 'Abhay@email.com'}\n",
      "{'name': 'Abh', 'mail': 'Abhay@email.com'}\n"
     ]
    }
   ],
   "source": [
    "class Employee:\n",
    "    def __init__(self,name):\n",
    "        self.name=name\n",
    "        self.mail=self.name+'@email.com'\n",
    "    def mail(self):\n",
    "        return self.name+'@email.com'\n",
    "\n",
    "e1=Employee('Abhay')\n",
    "print(e1.__dict__)\n",
    "e1.name='Abh'\n",
    "print(e1.__dict__) #name changes but associated mail doesn't"
   ]
  },
  {
   "cell_type": "code",
   "execution_count": 91,
   "id": "f48b9e4a-9db4-4b0d-bbe1-556c873794cf",
   "metadata": {},
   "outputs": [],
   "source": [
    "#To change mail use mail as a method"
   ]
  },
  {
   "cell_type": "code",
   "execution_count": 2,
   "id": "f4cc33de-74b6-4c31-b0df-506d9431a09a",
   "metadata": {},
   "outputs": [
    {
     "name": "stdout",
     "output_type": "stream",
     "text": [
      "Before change\n",
      "******************************\n",
      "ABC ABC@email.com\n",
      "DEF DEF@email.com\n",
      "GHI GHI@email.com\n",
      "After change\n",
      "******************************\n",
      "STU STU@email.com\n",
      "UVW UVW@email.com\n",
      "XYZ XYZ@email.com\n"
     ]
    }
   ],
   "source": [
    "class Employee:\n",
    "    def __init__(self,name):\n",
    "        self.name=name\n",
    "        # self.mail=self.name+'@email.com' #now remove this line from here\n",
    "    def mail(self):\n",
    "        return self.name+'@email.com'\n",
    "    def get_mail(self):\n",
    "        return self.mail\n",
    "\n",
    "e1=Employee('ABC')\n",
    "e2=Employee('DEF')\n",
    "e3=Employee('GHI')\n",
    "print('Before change')\n",
    "print('*'*30)\n",
    "print(e1.name,e1.mail())\n",
    "print(e2.name,e2.mail())\n",
    "print(e3.name,e3.mail())\n",
    "e1.name='STU'\n",
    "e2.name='UVW'\n",
    "e3.name='XYZ'\n",
    "print('After change')\n",
    "print('*'*30)\n",
    "print(e1.name,e1.mail()) #name changes and associated mail also changes by calling mail() again\n",
    "print(e2.name,e2.mail())\n",
    "print(e3.name,e3.mail())"
   ]
  },
  {
   "cell_type": "code",
   "execution_count": 98,
   "id": "a1f80b1e-b717-4986-bfd9-02bcd984ffcb",
   "metadata": {},
   "outputs": [
    {
     "name": "stdout",
     "output_type": "stream",
     "text": [
      "{'name': 'Abh'}\n"
     ]
    }
   ],
   "source": [
    "print(e1.__dict__) #mail is an instance method now and not an attribute of the object"
   ]
  },
  {
   "cell_type": "code",
   "execution_count": 3,
   "id": "a2447f69-fbf1-4524-9c32-e7e55788310d",
   "metadata": {},
   "outputs": [],
   "source": [
    "# If there were 100 objects whose name attr changed, mail() has to be called for these 100 objects again\n",
    "#Instead we can use '@property' decorator"
   ]
  },
  {
   "cell_type": "code",
   "execution_count": 4,
   "id": "c6447874-b64f-43c4-874b-ae095b8bbf1c",
   "metadata": {},
   "outputs": [],
   "source": [
    "#callable() fn and __call__() fn"
   ]
  },
  {
   "cell_type": "code",
   "execution_count": null,
   "id": "6daed4f6-13c6-466d-a8ca-ba345ce36090",
   "metadata": {},
   "outputs": [],
   "source": []
  }
 ],
 "metadata": {
  "kernelspec": {
   "display_name": "Python 3 (ipykernel)",
   "language": "python",
   "name": "python3"
  },
  "language_info": {
   "codemirror_mode": {
    "name": "ipython",
    "version": 3
   },
   "file_extension": ".py",
   "mimetype": "text/x-python",
   "name": "python",
   "nbconvert_exporter": "python",
   "pygments_lexer": "ipython3",
   "version": "3.12.7"
  }
 },
 "nbformat": 4,
 "nbformat_minor": 5
}
