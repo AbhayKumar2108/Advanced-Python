{
 "cells": [
  {
   "cell_type": "code",
   "execution_count": 1,
   "id": "a88dcb85-a0af-4181-ae32-d5ba117ceb42",
   "metadata": {},
   "outputs": [],
   "source": [
    "from multiprocessing import Process, current_process\n",
    "import time\n",
    "\n",
    "def process_fn():\n",
    "    print('This is a new process...')\n",
    "    time.sleep(2)\n",
    "    print('The process name is',current_process())\n",
    "\n",
    "def main():\n",
    "    proc=Process(target=process_fn)\n",
    "    proc.start()\n",
    "    #wait for it to complete\n",
    "    proc.join()\n",
    "    print('This is completed...')\n",
    "\n",
    "if __name__=='__main__':\n",
    "    \n",
    "    main()"
   ]
  },
  {
   "cell_type": "code",
   "execution_count": null,
   "id": "787f93c7-5c79-43a9-b9d3-c167fbb81076",
   "metadata": {},
   "outputs": [],
   "source": [
    "# a normal fn that takes time"
   ]
  },
  {
   "cell_type": "code",
   "execution_count": 2,
   "id": "d3a02f4f-d7c5-4eb4-831e-56a1a9a553c1",
   "metadata": {},
   "outputs": [
    {
     "name": "stdout",
     "output_type": "stream",
     "text": [
      "Before calling sleep fn\n",
      "After sleep\n"
     ]
    }
   ],
   "source": [
    "import time\n",
    "\n",
    "def fn_takes_time():\n",
    "    print('Before calling sleep fn')\n",
    "    time.sleep(2)\n",
    "    print('After sleep')\n",
    "    \n",
    "fn_takes_time()\n",
    "#while this fn is sleeping, I can do something else using threading"
   ]
  },
  {
   "cell_type": "raw",
   "id": "dc2c1eae-aa82-4cdc-ab47-07b03ae9a87f",
   "metadata": {},
   "source": [
    "from threading import Thread\n",
    "import time\n",
    "\n",
    "def fn_takes_time():\n",
    "    print('Before calling sleep fn')\n",
    "    time.sleep(2)\n",
    "    print('After sleep')\n",
    "t1=Thread(target=fn_takes_time)\n",
    "t1.start()\n",
    "print('\\nDoing something else also')"
   ]
  },
  {
   "cell_type": "code",
   "execution_count": 3,
   "id": "4d4acf1c-85dc-4f79-9600-f23e9a568738",
   "metadata": {},
   "outputs": [
    {
     "name": "stdout",
     "output_type": "stream",
     "text": [
      "Before calling sleep fn\n",
      "After sleep\n",
      "\n",
      "Doing something else also\n"
     ]
    }
   ],
   "source": [
    "#If I want to wait for the thread to complete before doing something else then use join()\n",
    "from threading import Thread\n",
    "import time\n",
    "\n",
    "def fn_takes_time():\n",
    "    print('Before calling sleep fn')\n",
    "    time.sleep(2)\n",
    "    print('After sleep')\n",
    "t1=Thread(target=fn_takes_time)\n",
    "t1.start()\n",
    "t1.join()\n",
    "print('\\nDoing something else also')"
   ]
  },
  {
   "cell_type": "code",
   "execution_count": 4,
   "id": "76547660-c601-4ddd-a652-d69fa1633829",
   "metadata": {},
   "outputs": [],
   "source": [
    "# we can do the same thing using concurrent.futures"
   ]
  },
  {
   "cell_type": "code",
   "execution_count": null,
   "id": "5dfa2c12-0b2c-4570-8eef-914239855fcf",
   "metadata": {},
   "outputs": [],
   "source": [
    "import concurrent.futures as cf\n",
    "from concurrent.futures import ThreadPoolExecutor\n",
    "import time\n",
    "\n",
    "def fn_takes_time():\n",
    "    print('Before calling sleep fn')\n",
    "    time.sleep(2)\n",
    "    print('After sleep')\n",
    "    \n",
    "with ThreadPoolExcutor(max_workers=1) as executor:\n",
    "    future=excutor.submit(fn_takes_time)\n",
    "    time.sleep(2)\n",
    "    print('After sleep calling the result')\n",
    "    future.result()"
   ]
  },
  {
   "cell_type": "code",
   "execution_count": 4,
   "id": "d34a31df-712e-484d-bf4e-dc87e084c460",
   "metadata": {},
   "outputs": [
    {
     "name": "stdout",
     "output_type": "stream",
     "text": [
      "sleeping 1 sec\n",
      "Done sleeping\n",
      "Finished in  1.0087683200836182 seconds\n"
     ]
    }
   ],
   "source": [
    "import time\n",
    "start=time.time()\n",
    "def do_something():\n",
    "    print('sleeping 1 sec')\n",
    "    time.sleep(1)\n",
    "    print('Done sleeping')\n",
    "\n",
    "do_something()\n",
    "finish=time.time()\n",
    "print('Finished in ',finish-start,'seconds')"
   ]
  },
  {
   "cell_type": "code",
   "execution_count": null,
   "id": "be5cf793-7bd6-4d84-8aa2-0556af8e0856",
   "metadata": {},
   "outputs": [],
   "source": [
    "#Sunchronous programs - sequentially run fns one after another in order"
   ]
  },
  {
   "cell_type": "code",
   "execution_count": 5,
   "id": "a69ec86e-bfaf-4fa2-969f-ca32cc0999bc",
   "metadata": {},
   "outputs": [
    {
     "name": "stdout",
     "output_type": "stream",
     "text": [
      "sleeping 1 sec\n",
      "Done sleeping\n",
      "sleeping 1 sec\n",
      "Done sleeping\n",
      "Finished in  2.009561538696289 seconds\n"
     ]
    }
   ],
   "source": [
    "import time\n",
    "start=time.time()\n",
    "def do_something():\n",
    "    print('sleeping 1 sec')\n",
    "    time.sleep(1)\n",
    "    print('Done sleeping')\n",
    "\n",
    "do_something()\n",
    "do_something()\n",
    "finish=time.time()\n",
    "print('Finished in ',finish-start,'seconds')"
   ]
  },
  {
   "cell_type": "code",
   "execution_count": 6,
   "id": "fd4042fa-cbe4-45b7-b5bb-032ba57fe4c9",
   "metadata": {},
   "outputs": [],
   "source": [
    "#MultiProcessing"
   ]
  },
  {
   "cell_type": "code",
   "execution_count": null,
   "id": "1f43e4fb-58db-48a0-b815-2a39f89575a6",
   "metadata": {},
   "outputs": [],
   "source": [
    "import multiprocessing\n",
    "import time\n",
    "start=time.time()\n",
    "def do_something():\n",
    "    print('sleeping 1 sec')\n",
    "    time.sleep(1)\n",
    "    print('Done sleeping')\n",
    "\n",
    "p1=multiprocessing.Process(target=do_something)\n",
    "p2=multiprocessing.Process(target=do_something)\n",
    "p1.start()\n",
    "p2.start()\n",
    "\n",
    "finish=time.time()\n",
    "print('Finished in ',finish-start,'seconds')\n",
    "\n",
    "#RuntimeError: An attempt has been made to start a new process before the current process\n",
    "#has finished its bootstrapping phase"
   ]
  },
  {
   "cell_type": "code",
   "execution_count": 10,
   "id": "2b9d7a4b-5ed7-41a7-879d-7893862ff306",
   "metadata": {},
   "outputs": [],
   "source": [
    "# use if __name__=='__main__': block to prevent above error\n",
    "\n",
    "import multiprocessing\n",
    "import time\n",
    "\n",
    "def do_something():\n",
    "    print('sleeping 1 sec')\n",
    "    time.sleep(1)\n",
    "    print('Done sleeping')\n",
    "\n",
    "if __name__ == '__main__':\n",
    "\n",
    "    start=time.time()\n",
    "    p1=multiprocessing.Process(target=do_something)\n",
    "    p2=multiprocessing.Process(target=do_something)\n",
    "    p1.start()\n",
    "    p2.start()\n",
    "    # p1.join()\n",
    "    # p2.join()\n",
    "\n",
    "    finish=time.time()\n",
    "    print(f'Finished in {finish-start} seconds')\n",
    "\n",
    "#Due to no join() Main process starts two child processes and completes before even the two could finish\n",
    "# Finished in 0.022342681884765625 seconds\n",
    "# sleeping 1 sec\n",
    "# sleeping 1 sec\n",
    "# Done sleeping\n",
    "# Done sleeping"
   ]
  },
  {
   "cell_type": "code",
   "execution_count": null,
   "id": "5179a095-d2a9-46ed-9d84-7cc2608c308c",
   "metadata": {},
   "outputs": [],
   "source": [
    "import multiprocessing\n",
    "import time\n",
    "\n",
    "def do_something():\n",
    "    print('sleeping 1 sec')\n",
    "    time.sleep(1)\n",
    "    print('Done sleeping')\n",
    "\n",
    "if __name__ == '__main__':\n",
    "\n",
    "    start=time.time()\n",
    "    p1=multiprocessing.Process(target=do_something)\n",
    "    p2=multiprocessing.Process(target=do_something)\n",
    "    p1.start()\n",
    "    p2.start()\n",
    "    p1.join()\n",
    "    p2.join()\n",
    "\n",
    "    finish=time.time()\n",
    "    print(f'Finished in {finish-start} seconds')\n",
    "\n",
    "# sleeping 1 sec\n",
    "# sleeping 1 sec\n",
    "# Done sleeping\n",
    "# Done sleeping\n",
    "# Finished in 1.2153511047363281 seconds"
   ]
  },
  {
   "cell_type": "code",
   "execution_count": null,
   "id": "0d790009-70bc-4680-b73a-0ef8ea8f8c57",
   "metadata": {},
   "outputs": [],
   "source": [
    "import multiprocessing\n",
    "import time\n",
    "\n",
    "def do_something():\n",
    "    print('sleeping 1 sec')\n",
    "    time.sleep(1)\n",
    "    print('Done sleeping')\n",
    "\n",
    "if __name__ == '__main__':\n",
    "\n",
    "    start=time.time()\n",
    "    processes=[]\n",
    "    for _ in range(10):\n",
    "        p=multiprocessing.Process(target=do_something)\n",
    "        p.start()\n",
    "        processes.append(p)\n",
    "    \n",
    "    for process in processes:\n",
    "        process.join()\n",
    "\n",
    "    finish=time.time()\n",
    "    print(f'Finished in {finish-start} seconds')"
   ]
  },
  {
   "cell_type": "code",
   "execution_count": 13,
   "id": "e66c31c0-8653-47a1-9445-a20de4a10c29",
   "metadata": {},
   "outputs": [],
   "source": [
    "#Passing arguments to a process"
   ]
  },
  {
   "cell_type": "code",
   "execution_count": null,
   "id": "fcc3093e-59d2-4e64-ae81-2160eb4b6eb8",
   "metadata": {},
   "outputs": [],
   "source": [
    "import multiprocessing\n",
    "import time\n",
    "\n",
    "def do_something(t):\n",
    "    print(f'sleeping {t} sec')\n",
    "    time.sleep(t)\n",
    "    print('Done sleeping')\n",
    "\n",
    "if __name__ == '__main__':\n",
    "\n",
    "    start=time.time()\n",
    "    processes=[]\n",
    "    for _ in range(10):\n",
    "        p=multiprocessing.Process(target=do_something, args=(1.5,))  #as a tuple/list\n",
    "        p.start()\n",
    "        processes.append(p)\n",
    "    \n",
    "    for process in processes:\n",
    "        process.join()\n",
    "\n",
    "    finish=time.time()\n",
    "    print(f'Finished in {finish-start} seconds')"
   ]
  },
  {
   "cell_type": "code",
   "execution_count": 14,
   "id": "665ac2d5-c13c-4f42-a922-968fe6ab0ec4",
   "metadata": {},
   "outputs": [],
   "source": [
    "# Concurrent.futures"
   ]
  },
  {
   "cell_type": "code",
   "execution_count": null,
   "id": "8179a9a7-92ab-4cbe-b05d-e5c1783eeb83",
   "metadata": {},
   "outputs": [],
   "source": [
    "import concurrent.futures\n",
    "import time\n",
    "\n",
    "def do_something(t):\n",
    "    print(f'sleeping {t} sec')\n",
    "    time.sleep(t)\n",
    "    return 'Done sleeping'\n",
    "\n",
    "\n",
    "\n",
    "if __name__ == '__main__':\n",
    "\n",
    "    start=time.time()\n",
    "    with concurrent.futures.ProcessPoolExecutor() as executor:\n",
    "        f1=executor.submit(do_something,1)\n",
    "        print(f1.result())\n",
    "\n",
    "    finish=time.time()\n",
    "    print(f'Finished in {finish-start} seconds')"
   ]
  },
  {
   "cell_type": "code",
   "execution_count": 16,
   "id": "89482f7b-fecd-4a8c-b8f4-d9d55401e613",
   "metadata": {},
   "outputs": [],
   "source": [
    "# Running twice (parallely)"
   ]
  },
  {
   "cell_type": "code",
   "execution_count": null,
   "id": "95a8a96c-1b01-40ea-a14e-ca000d57687a",
   "metadata": {},
   "outputs": [],
   "source": [
    "import concurrent.futures\n",
    "import time\n",
    "\n",
    "def do_something(t):\n",
    "    print(f'sleeping {t} sec')\n",
    "    time.sleep(t)\n",
    "    return 'Done sleeping'\n",
    "\n",
    "\n",
    "\n",
    "if __name__ == '__main__':\n",
    "\n",
    "    start=time.time()\n",
    "    with concurrent.futures.ProcessPoolExecutor() as executor:\n",
    "        f1=executor.submit(do_something,1)\n",
    "        f2=executor.submit(do_something,1)\n",
    "        print(f1.result())\n",
    "        print(f1.result())\n",
    "    finish=time.time()\n",
    "    print(f'Finished in {finish-start} seconds')"
   ]
  },
  {
   "cell_type": "code",
   "execution_count": 17,
   "id": "16d8f4e4-0bda-4192-ad2a-879036e31ddd",
   "metadata": {},
   "outputs": [],
   "source": [
    "# get results of completed processes using as_completed()"
   ]
  },
  {
   "cell_type": "code",
   "execution_count": null,
   "id": "f4e6add9-1500-4300-8b52-1349aa91fa4b",
   "metadata": {},
   "outputs": [],
   "source": [
    "import concurrent.futures\n",
    "import time\n",
    "\n",
    "def do_something(t):\n",
    "    print(f'sleeping {t} sec')\n",
    "    time.sleep(t)\n",
    "    return 'Done sleeping'\n",
    "\n",
    "\n",
    "\n",
    "if __name__ == '__main__':\n",
    "\n",
    "    start=time.time()\n",
    "    with concurrent.futures.ProcessPoolExecutor() as executor:\n",
    "        results= [executor.submit(do_something,1) for _ in range(10)]\n",
    "        for f in concurrent.futures.as_completed(results):\n",
    "            print(f.result())\n",
    "    finish=time.time()\n",
    "    print(f'Finished in {finish-start} seconds')"
   ]
  },
  {
   "cell_type": "code",
   "execution_count": null,
   "id": "44ea58d9-76b6-4fed-8427-9d40c2711f11",
   "metadata": {},
   "outputs": [],
   "source": [
    "# To see clear results pass different time to each submit()\n",
    "\n",
    "\n",
    "import concurrent.futures\n",
    "import time\n",
    "\n",
    "def do_something(t):\n",
    "    print(f'sleeping {t} sec')\n",
    "    time.sleep(t)\n",
    "    return f'Done sleeping {t} seconds'\n",
    "\n",
    "\n",
    "\n",
    "if __name__ == '__main__':\n",
    "\n",
    "    start=time.time()\n",
    "    with concurrent.futures.ProcessPoolExecutor() as executor:\n",
    "        secs=[5,4,3,2,1]\n",
    "        results= [executor.submit(do_something,sec) for sec in secs]\n",
    "        for f in concurrent.futures.as_completed(results):\n",
    "            print(f.result())\n",
    "    finish=time.time()\n",
    "    print(f'Finished in {finish-start} seconds')"
   ]
  }
 ],
 "metadata": {
  "kernelspec": {
   "display_name": "Python 3 (ipykernel)",
   "language": "python",
   "name": "python3"
  },
  "language_info": {
   "codemirror_mode": {
    "name": "ipython",
    "version": 3
   },
   "file_extension": ".py",
   "mimetype": "text/x-python",
   "name": "python",
   "nbconvert_exporter": "python",
   "pygments_lexer": "ipython3",
   "version": "3.12.7"
  }
 },
 "nbformat": 4,
 "nbformat_minor": 5
}
